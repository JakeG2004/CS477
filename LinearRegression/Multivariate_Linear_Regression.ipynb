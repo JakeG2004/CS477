{
  "cells": [
    {
      "cell_type": "markdown",
      "metadata": {
        "id": "BL8icERDgkL3"
      },
      "source": [
        "## Python For Machine Learning Fall 2025\n",
        "---\n",
        "# Multivariate Linear Regression"
      ]
    },
    {
      "cell_type": "markdown",
      "metadata": {
        "id": "X2t5YARenRA7"
      },
      "source": [
        "## Numpy for Multivariate Linear Regression\n",
        "\n",
        "NumPy is a powerful library for numerical operations in Python. Its main feature is the `ndarray`, a multi-dimensional array object that is highly efficient for performing mathematical calculations. In machine learning, we'll use NumPy to handle our data, which is often represented as matrices and vectors."
      ]
    },
    {
      "cell_type": "code",
      "execution_count": 2,
      "metadata": {
        "id": "FQReTOLABKG1"
      },
      "outputs": [],
      "source": [
        "import numpy as np"
      ]
    },
    {
      "cell_type": "markdown",
      "metadata": {
        "id": "BoJIaVhFBSau"
      },
      "source": [
        "The most straightforward way to create a NumPy array is to pass a Python list or tuple to the `np.array()` function. This is especially useful for creating arrays with specific initial values. Create a 1D array (vector)"
      ]
    },
    {
      "cell_type": "code",
      "execution_count": 4,
      "metadata": {
        "id": "BSgb1DZwBU-M"
      },
      "outputs": [
        {
          "data": {
            "text/plain": [
              "array([1, 2, 3, 4])"
            ]
          },
          "execution_count": 4,
          "metadata": {},
          "output_type": "execute_result"
        }
      ],
      "source": [
        "np.array([1 ,2, 3, 4])"
      ]
    },
    {
      "cell_type": "markdown",
      "metadata": {
        "id": "H0iCKhL6BWhk"
      },
      "source": [
        "To create a multi-dimensional array, pass a nested list or tuple."
      ]
    },
    {
      "cell_type": "code",
      "execution_count": 6,
      "metadata": {
        "id": "KdYxgEKyBYdh"
      },
      "outputs": [
        {
          "data": {
            "text/plain": [
              "array([[1, 2],\n",
              "       [3, 4]])"
            ]
          },
          "execution_count": 6,
          "metadata": {},
          "output_type": "execute_result"
        }
      ],
      "source": [
        "np.array([[1, 2], [3, 4]])"
      ]
    },
    {
      "cell_type": "markdown",
      "metadata": {
        "id": "mcyb6FzNCumJ"
      },
      "source": [
        "NumPy provides several functions for creating arrays with placeholder or structured data. These are more efficient than creating Python lists first, especially for large arrays.\n",
        "\n",
        "`np.zeros()`: Creates an array filled with zeros. You must specify the shape."
      ]
    },
    {
      "cell_type": "code",
      "execution_count": 10,
      "metadata": {
        "id": "Lh3J7fGcCwTS"
      },
      "outputs": [
        {
          "data": {
            "text/plain": [
              "array([[0., 0., 0., 0., 0.],\n",
              "       [0., 0., 0., 0., 0.],\n",
              "       [0., 0., 0., 0., 0.],\n",
              "       [0., 0., 0., 0., 0.]])"
            ]
          },
          "execution_count": 10,
          "metadata": {},
          "output_type": "execute_result"
        }
      ],
      "source": [
        "np.zeros((4, 5))"
      ]
    },
    {
      "cell_type": "markdown",
      "metadata": {
        "id": "WfFq81VMVXAs"
      },
      "source": [
        "`np.ones()`: Creates an array filled with ones."
      ]
    },
    {
      "cell_type": "code",
      "execution_count": 11,
      "metadata": {
        "id": "wJu0VkLsDJx2"
      },
      "outputs": [
        {
          "data": {
            "text/plain": [
              "array([[1., 1., 1., 1., 1.],\n",
              "       [1., 1., 1., 1., 1.],\n",
              "       [1., 1., 1., 1., 1.],\n",
              "       [1., 1., 1., 1., 1.]])"
            ]
          },
          "execution_count": 11,
          "metadata": {},
          "output_type": "execute_result"
        }
      ],
      "source": [
        "np.ones((4, 5))"
      ]
    },
    {
      "cell_type": "markdown",
      "metadata": {
        "id": "ARlRnAWkV7Ra"
      },
      "source": [
        "`np.full()`: Creates an array of a given shape filled with a specified value."
      ]
    },
    {
      "cell_type": "markdown",
      "metadata": {
        "id": "JVk7CrloDaRS"
      },
      "source": [
        "`np.eye()`: Creates a 2-D identity matrix, which has ones on the main diagonal and zeros elsewhere."
      ]
    },
    {
      "cell_type": "code",
      "execution_count": 15,
      "metadata": {
        "id": "osEtTt-mD4rM"
      },
      "outputs": [],
      "source": [
        "threes = np.full((4, 5), 3)"
      ]
    },
    {
      "cell_type": "markdown",
      "metadata": {
        "id": "uj4-mseMXBHL"
      },
      "source": [
        "`np.identity(n)`: Used only for creating a square identity matrix."
      ]
    },
    {
      "cell_type": "code",
      "execution_count": 13,
      "metadata": {
        "id": "BMWOeMLjD_UY"
      },
      "outputs": [
        {
          "data": {
            "text/plain": [
              "array([[1., 0., 0., 0.],\n",
              "       [0., 1., 0., 0.],\n",
              "       [0., 0., 1., 0.],\n",
              "       [0., 0., 0., 1.]])"
            ]
          },
          "execution_count": 13,
          "metadata": {},
          "output_type": "execute_result"
        }
      ],
      "source": [
        "np.identity(4)"
      ]
    },
    {
      "cell_type": "markdown",
      "metadata": {
        "id": "FrUEKHzVW6g9"
      },
      "source": [
        "np.diag() is a NumPy function that either extracts a diagonal from a 2D array or creates a 2D diagonal array from a 1D array."
      ]
    },
    {
      "cell_type": "code",
      "execution_count": 17,
      "metadata": {
        "id": "2wgQxjy2EEWY"
      },
      "outputs": [
        {
          "data": {
            "text/plain": [
              "array([[1, 0, 0, 0],\n",
              "       [0, 2, 0, 0],\n",
              "       [0, 0, 3, 0],\n",
              "       [0, 0, 0, 4]])"
            ]
          },
          "execution_count": 17,
          "metadata": {},
          "output_type": "execute_result"
        }
      ],
      "source": [
        "np.diag([1, 2, 3, 4])"
      ]
    },
    {
      "cell_type": "markdown",
      "metadata": {
        "id": "tM_CrBiiEKmm"
      },
      "source": [
        "There are three common ways to transpose a NumPy matrix.\n",
        "\n",
        "`.T` attribute"
      ]
    },
    {
      "cell_type": "code",
      "execution_count": 33,
      "metadata": {
        "id": "9DOqcSDUElRe"
      },
      "outputs": [
        {
          "data": {
            "text/plain": [
              "array([[2, 0, 1],\n",
              "       [1, 2, 1],\n",
              "       [3, 4, 2]])"
            ]
          },
          "execution_count": 33,
          "metadata": {},
          "output_type": "execute_result"
        }
      ],
      "source": [
        "my_matrix = np.array([[2 ,1, 3], [0, 2, 4], [1, 1, 2]])\n",
        "\n",
        "my_matrix.T"
      ]
    },
    {
      "cell_type": "markdown",
      "metadata": {
        "id": "P-rQfDEqXkRR"
      },
      "source": [
        "`.transpose()` method"
      ]
    },
    {
      "cell_type": "code",
      "execution_count": 28,
      "metadata": {
        "id": "XiaiNd4QXnns"
      },
      "outputs": [
        {
          "data": {
            "text/plain": [
              "array([[0, 3, 6],\n",
              "       [1, 4, 7],\n",
              "       [2, 5, 8]])"
            ]
          },
          "execution_count": 28,
          "metadata": {},
          "output_type": "execute_result"
        }
      ],
      "source": [
        "my_matrix.transpose()"
      ]
    },
    {
      "cell_type": "markdown",
      "metadata": {
        "id": "McF2BtAwXcS6"
      },
      "source": [
        "`np.transpose()` function"
      ]
    },
    {
      "cell_type": "code",
      "execution_count": 29,
      "metadata": {
        "id": "r4e-1HkoEsPr"
      },
      "outputs": [
        {
          "data": {
            "text/plain": [
              "array([[0, 3, 6],\n",
              "       [1, 4, 7],\n",
              "       [2, 5, 8]])"
            ]
          },
          "execution_count": 29,
          "metadata": {},
          "output_type": "execute_result"
        }
      ],
      "source": [
        "np.transpose(my_matrix)"
      ]
    },
    {
      "cell_type": "markdown",
      "metadata": {
        "id": "pY5VGHFlFIIp"
      },
      "source": [
        "`np.linalg.inv()` is a NumPy function used to calculate the multiplicative inverse of a matrix."
      ]
    },
    {
      "cell_type": "code",
      "execution_count": 34,
      "metadata": {
        "id": "_K2xGuzIFQGI"
      },
      "outputs": [
        {
          "data": {
            "text/plain": [
              "array([[ 0. , -0.5,  1. ],\n",
              "       [-2. , -0.5,  4. ],\n",
              "       [ 1. ,  0.5, -2. ]])"
            ]
          },
          "execution_count": 34,
          "metadata": {},
          "output_type": "execute_result"
        }
      ],
      "source": [
        "np.linalg.inv(my_matrix)"
      ]
    },
    {
      "cell_type": "markdown",
      "metadata": {
        "id": "qD4MQsgSFk55"
      },
      "source": [
        "In Numpy, you can perform matrix multiplication using either the `@` operator or the `np.matmul()` function."
      ]
    },
    {
      "cell_type": "code",
      "execution_count": 38,
      "metadata": {
        "id": "DLN8R28_FvH8"
      },
      "outputs": [
        {
          "data": {
            "text/plain": [
              "array([[27, 33, 39],\n",
              "       [36, 42, 48],\n",
              "       [19, 23, 27]])"
            ]
          },
          "execution_count": 38,
          "metadata": {},
          "output_type": "execute_result"
        }
      ],
      "source": [
        "matrix_2 = np.array([[1, 2, 3], [4, 5, 6], [7, 8, 9]])\n",
        "\n",
        "my_matrix @ matrix_2"
      ]
    },
    {
      "cell_type": "code",
      "execution_count": 39,
      "metadata": {
        "id": "zYH5OelNIlgW"
      },
      "outputs": [
        {
          "data": {
            "text/plain": [
              "array([[27, 33, 39],\n",
              "       [36, 42, 48],\n",
              "       [19, 23, 27]])"
            ]
          },
          "execution_count": 39,
          "metadata": {},
          "output_type": "execute_result"
        }
      ],
      "source": [
        "np.matmul(my_matrix, matrix_2)"
      ]
    },
    {
      "cell_type": "markdown",
      "metadata": {
        "id": "16TtBn1YHHnz"
      },
      "source": [
        "In Numpy, you can perform element-wise multiplication using the operator * or the np.multiply() function."
      ]
    },
    {
      "cell_type": "code",
      "execution_count": 40,
      "metadata": {
        "id": "IAbCpLX2HMPB"
      },
      "outputs": [
        {
          "data": {
            "text/plain": [
              "array([[4, 2, 6],\n",
              "       [0, 4, 8],\n",
              "       [2, 2, 4]])"
            ]
          },
          "execution_count": 40,
          "metadata": {},
          "output_type": "execute_result"
        }
      ],
      "source": [
        "my_matrix * 2"
      ]
    },
    {
      "cell_type": "code",
      "execution_count": 41,
      "metadata": {
        "id": "7DvFPnO9IvbW"
      },
      "outputs": [
        {
          "data": {
            "text/plain": [
              "array([[4, 2, 6],\n",
              "       [0, 4, 8],\n",
              "       [2, 2, 4]])"
            ]
          },
          "execution_count": 41,
          "metadata": {},
          "output_type": "execute_result"
        }
      ],
      "source": [
        "np.multiply(my_matrix, 2)"
      ]
    },
    {
      "cell_type": "markdown",
      "metadata": {
        "id": "66gfEcS15Zzg"
      },
      "source": [
        "`np.concatenate()` function or its convinient object `np.c_` can concatenate two or more Numpy arrays."
      ]
    },
    {
      "cell_type": "code",
      "execution_count": 47,
      "metadata": {
        "id": "PJUviA715rRw"
      },
      "outputs": [
        {
          "data": {
            "text/plain": [
              "array([1, 2, 3, 4, 5, 6])"
            ]
          },
          "execution_count": 47,
          "metadata": {},
          "output_type": "execute_result"
        }
      ],
      "source": [
        "np.concatenate(([1, 2, 3], [4, 5, 6]))"
      ]
    },
    {
      "cell_type": "markdown",
      "metadata": {
        "id": "ZfvS_N9FZVNh"
      },
      "source": [
        "For 2D arrays, you must specify the `axis` to control whether the arrays are stacked vertically (along rows) or horizontally (along columns)."
      ]
    },
    {
      "cell_type": "code",
      "execution_count": 48,
      "metadata": {
        "id": "M2MLDf_MZaC0"
      },
      "outputs": [
        {
          "data": {
            "text/plain": [
              "array([[2, 1, 3],\n",
              "       [0, 2, 4],\n",
              "       [1, 1, 2],\n",
              "       [1, 2, 3],\n",
              "       [4, 5, 6],\n",
              "       [7, 8, 9]])"
            ]
          },
          "execution_count": 48,
          "metadata": {},
          "output_type": "execute_result"
        }
      ],
      "source": [
        "np.concatenate((my_matrix, matrix_2), axis=0)"
      ]
    },
    {
      "cell_type": "markdown",
      "metadata": {
        "id": "F-CMQaLz6nnp"
      },
      "source": [
        "For an Numpy array, method `.reshape()` returns a new array with the same data but a different shape."
      ]
    },
    {
      "cell_type": "code",
      "execution_count": 61,
      "metadata": {
        "id": "qIq1juKvZ57c"
      },
      "outputs": [
        {
          "data": {
            "text/plain": [
              "array([[2],\n",
              "       [1],\n",
              "       [3],\n",
              "       [0],\n",
              "       [2],\n",
              "       [4],\n",
              "       [1],\n",
              "       [1],\n",
              "       [2]])"
            ]
          },
          "execution_count": 61,
          "metadata": {},
          "output_type": "execute_result"
        }
      ],
      "source": [
        "np.reshape(my_matrix, [9, 1])"
      ]
    },
    {
      "cell_type": "markdown",
      "metadata": {
        "id": "1-QTnEmeaGbd"
      },
      "source": [
        "A very useful feature of .reshape() is the use of -1 as a placeholder. This tells NumPy to automatically calculate the dimension for that axis based on the total number of elements and the other dimensions you've specified."
      ]
    },
    {
      "cell_type": "code",
      "execution_count": 57,
      "metadata": {
        "id": "Z1ynQ7TGaHTx"
      },
      "outputs": [
        {
          "data": {
            "text/plain": [
              "array([2, 1, 3, 0, 2, 4, 1, 1, 2])"
            ]
          },
          "execution_count": 57,
          "metadata": {},
          "output_type": "execute_result"
        }
      ],
      "source": [
        "np.reshape(my_matrix, -1)"
      ]
    },
    {
      "cell_type": "markdown",
      "metadata": {
        "id": "MceASpIoI0nt"
      },
      "source": [
        "Now we have everything we need to finish the calculation fo multivariable linear regression."
      ]
    },
    {
      "cell_type": "markdown",
      "metadata": {
        "id": "vV_G4jOAgqgi"
      },
      "source": [
        "## From univariate to Multivariate Linear Regression\n",
        "\n",
        "Recall that univariate linear regression uses a single feature to predict a target variable, described by the equation:\n",
        "\n",
        "$$\n",
        "y = m x + b\n",
        "$$\n",
        "\n",
        "But what happens when the target is influenced by multiple factors? We extend our model to **Multiple Linear Regression**, the single output version of **Multivariate linear regression**, where the equation becomes:\n",
        "\n",
        "$$\n",
        "y = \\theta_0 + \\theta_1 x_1 + \\theta_2 x_2 + \\dots + \\theta_n x_n\n",
        "$$\n",
        "\n",
        "Here, $y$ is the target value, $\\theta_0$ is the intercept, and $\\theta_1, \\dots, \\theta_n$ are the coefficients (weights) for each feature $x_1, \\dots, x_n$."
      ]
    },
    {
      "cell_type": "markdown",
      "metadata": {
        "id": "DM_WYFDLng_B"
      },
      "source": [
        "### Agreement on Symbols\n",
        "\n",
        "To prevent confusion, we need to establish more precise symbol conventions, which is different from how we handle single-variable situations.\n",
        "\n",
        "- We represent scalars with lowercase letters or Greek letters, such as $t$ or $\\alpha$.\n",
        "- Use bold, lowercase letters or bold Greek letters for vectors, like $\\mathbf{x}$. Their elements are written as $x_i$. Note that a bold lowercase letter with a subscript, such as $\\mathbf{x_1}$ and $\\mathbf{x_2}$, represents two different constant vectors. By default, vectors are column vectors; a row vector is a transpose of a column vector, written as $\\mathbf{x^T}$.\n",
        "- Matrices are represented by capital letters such as $A$ and $\\Sigma$. Their elements are shown with lowercase letters, such as $a_{ij}$. Capital letters with subscripts, like $A_1$ and $A_2$, indicate different constant matrices."
      ]
    },
    {
      "cell_type": "markdown",
      "metadata": {
        "id": "nOeptiSxg9C-"
      },
      "source": [
        "## The Matrix Form\n",
        "\n",
        "Multiple linear regression has vectors as samples and the weights are also vectors. To handle the more complex model, the more compact **matrix form** is a better way.\n",
        "\n",
        "Let's define our matrices:\n",
        "\n",
        "-   **Feature Matrix $X$:** An $m \\times (n+1)$ matrix where $m$ is the number of training examples and $n$ is the number of features. We add a column of ones for the intercept term $\\theta_0$.\n",
        "-   **Coefficient Vector $\\theta$:** A vector of size $(n+1) \\times 1$ containing all the coefficients, including the intercept.\n",
        "-   **Target Vector $y$:** An $m \\times 1$ vector of the target values.\n",
        "\n",
        "The prediction can then be calculated as a dot product:\n",
        "\n",
        "$$\n",
        "\\hat{y} = X \\theta\n",
        "$$"
      ]
    },
    {
      "cell_type": "markdown",
      "metadata": {
        "id": "l2immvczI_VT"
      },
      "source": [
        "## Data Preparation"
      ]
    },
    {
      "cell_type": "markdown",
      "metadata": {
        "id": "s4Pm_5hH5s10"
      },
      "source": [
        "We will use a typical house price prediction model for this experiment. https://scikit-learn.org/stable/modules/generated/sklearn.datasets.fetch_california_housing.html"
      ]
    },
    {
      "cell_type": "code",
      "execution_count": null,
      "metadata": {
        "id": "NMhDgyyY6TZ9"
      },
      "outputs": [],
      "source": []
    },
    {
      "cell_type": "markdown",
      "metadata": {
        "id": "d1IImR9H9OQV"
      },
      "source": [
        "To start, we will select a few features from the dataset."
      ]
    },
    {
      "cell_type": "code",
      "execution_count": null,
      "metadata": {
        "id": "APi1pun-9Pzx"
      },
      "outputs": [],
      "source": []
    },
    {
      "cell_type": "markdown",
      "metadata": {
        "id": "2Z3INqhUCOKz"
      },
      "source": [
        "Next, we will add a column where all values are 1."
      ]
    },
    {
      "cell_type": "code",
      "execution_count": null,
      "metadata": {
        "id": "7hmjySL3Cb4C"
      },
      "outputs": [],
      "source": []
    },
    {
      "cell_type": "markdown",
      "metadata": {
        "id": "dA1v7OVN9Y7S"
      },
      "source": [
        "The last step is to process the prediction target."
      ]
    },
    {
      "cell_type": "code",
      "execution_count": null,
      "metadata": {
        "id": "QNpZEieh9aBO"
      },
      "outputs": [],
      "source": []
    },
    {
      "cell_type": "markdown",
      "metadata": {
        "id": "E9lhUs_BBH1H"
      },
      "source": [
        "The model is very compact when represented in its matrix form."
      ]
    },
    {
      "cell_type": "code",
      "execution_count": null,
      "metadata": {
        "id": "hfVCV78sB7Jh"
      },
      "outputs": [],
      "source": []
    },
    {
      "cell_type": "markdown",
      "metadata": {
        "id": "D497Wt3Yjjy7"
      },
      "source": [
        "## The Normal Equation\n",
        "\n",
        "The **Normal Equation** provides a direct, analytical solution to find the optimal values for $\\theta$ without needing to iterate. The formula is:\n",
        "\n",
        "$$\n",
        "\\mathbf{\\theta} = (X^T X)^{-1} X^T \\mathbf{y}\n",
        "$$\n",
        "\n",
        "Where:\n",
        "-   $X^T$ is the transpose of the feature matrix $X$.\n",
        "-   $X^T X$ is the dot product of the transpose of $X$ and $X$.\n",
        "-   $(X^T X)^{-1}$ is the inverse of that result.\n",
        "-   $\\mathbf{y}$ is the target vector.\n"
      ]
    },
    {
      "cell_type": "markdown",
      "metadata": {
        "id": "1WcKeEdzLmmb"
      },
      "source": [
        "Here is how we get the result\n",
        "Note that the linear function (model) as follows:\n",
        "$$\n",
        "h_{\\mathbf{\\theta}}(x_1, x_2,..., x_n) = \\theta_0\\cdot 1+\\theta_1x_1+,...,\\theta_nx_n\n",
        "$$\n",
        "Note $\\mathbf{x}=[x_1, x_2,..., x_n]$, then we have:\n",
        "$$\n",
        "h_{\\mathbf{\\theta}}(\\mathbf{x})=\\mathbf{x}\\mathbf{\\theta}\n",
        "$$\n",
        "Note that:\n",
        "$$\n",
        "X= \\begin{matrix} \\mathbf{x_1^T} \\\\ \\mathbf{x_2^T} \\\\ ... \\\\ \\mathbf{x_m^T} \\end{matrix}\n",
        "$$\n",
        "We can simplify the calculation as\n",
        "$$\n",
        "\\mathbf{y}=X\\mathbf{\\theta}\n",
        "$$\n",
        "Then we can define the loss function as:\n",
        "$$\n",
        "J(\\mathbf{\\theta})=\\frac{1}{2}(X\\mathbf{\\theta}-\\mathbf{y})^T(X\\mathbf{\\theta}-\\mathbf{y})\n",
        "$$\n",
        "Make the derivate of $J$ regarding $\\mathbf{\\theta}$ equals to $0$, we get\n",
        "$$\n",
        "\\frac{\\partial}{\\partial \\mathbf{\\theta}}J(\\mathbf{\\theta})=X^T(X\\mathbf{\\theta}-\\mathbf{y})=0\n",
        "$$\n",
        "Thus, we get:\n",
        "$$\n",
        "\\mathbf{\\theta}=(X^T X)^{-1} X^T \\mathbf{y}\n",
        "$$"
      ]
    },
    {
      "cell_type": "markdown",
      "metadata": {
        "id": "shWGj4UlDMHg"
      },
      "source": [
        "Calculate coefficients using the Normal Equation\n",
        "Using np.linalg.inv for matrix inversion and @ for dot product"
      ]
    },
    {
      "cell_type": "code",
      "execution_count": null,
      "metadata": {
        "id": "fo3FTWsfgdty"
      },
      "outputs": [],
      "source": []
    },
    {
      "cell_type": "markdown",
      "metadata": {
        "id": "C9GB821gc6OX"
      },
      "source": [
        "Let's check if the predictions are accurate."
      ]
    },
    {
      "cell_type": "code",
      "execution_count": null,
      "metadata": {
        "id": "Kpw8I-ModA8Q"
      },
      "outputs": [],
      "source": []
    },
    {
      "cell_type": "markdown",
      "metadata": {
        "id": "k0zGZK9CDiiN"
      },
      "source": [
        "Let's see if `sklearn` performs better."
      ]
    },
    {
      "cell_type": "code",
      "execution_count": null,
      "metadata": {
        "id": "19zJr9uiIv_4"
      },
      "outputs": [],
      "source": []
    },
    {
      "cell_type": "markdown",
      "metadata": {
        "id": "JH1YWSrLI7ly"
      },
      "source": [
        "Gradient Descent\n",
        "\n",
        "The problem can also be solved using gradient descent (of course). Slightly different from the normal equation, we have:\n",
        "$$\n",
        "J(\\mathbf{\\theta})=\\frac{1}{2}(X\\mathbf{\\theta}-\\mathbf{y})^T(X\\mathbf{\\theta}-\\mathbf{y})\n",
        "$$\n",
        "and thus, the gradient vector is:\n",
        "$$\n",
        "\\frac{\\partial}{\\partial \\mathbf{\\theta}}J(\\mathbf{\\theta})=\\frac{1}{m}X^T(X\\mathbf{\\theta}-\\mathbf{y})\n",
        "$$\n",
        "\n",
        "\n",
        "\n",
        "Similar to the univariate linear regression, we implement the algorithm block by block."
      ]
    },
    {
      "cell_type": "markdown",
      "metadata": {
        "id": "AliVj1uzOk2x"
      },
      "source": [
        "We will implement the loss function first, following the same basic steps as single-variable linear regression."
      ]
    },
    {
      "cell_type": "code",
      "execution_count": null,
      "metadata": {
        "id": "0dNSHA8ZOrJv"
      },
      "outputs": [],
      "source": []
    },
    {
      "cell_type": "markdown",
      "metadata": {
        "id": "fjwYZ77MOtMF"
      },
      "source": [
        "The next step is to implement how to calculate the gradient."
      ]
    },
    {
      "cell_type": "code",
      "execution_count": null,
      "metadata": {
        "id": "b2lTBbSkSIHU"
      },
      "outputs": [],
      "source": []
    },
    {
      "cell_type": "markdown",
      "metadata": {
        "id": "IUJpy_KLSNLN"
      },
      "source": [
        "Initialize the model's parameters randomly."
      ]
    },
    {
      "cell_type": "code",
      "execution_count": null,
      "metadata": {
        "id": "4ASSxYZtSraH"
      },
      "outputs": [],
      "source": []
    },
    {
      "cell_type": "markdown",
      "metadata": {
        "id": "ThPZvOBfTJod"
      },
      "source": [
        "Define the hyperparameters and implement the training loop."
      ]
    },
    {
      "cell_type": "code",
      "execution_count": null,
      "metadata": {
        "id": "bsl0sQWMTMHA"
      },
      "outputs": [],
      "source": []
    },
    {
      "cell_type": "markdown",
      "metadata": {
        "id": "e49QOpHKfcGv"
      },
      "source": [
        "Let's evaluate the model's performance."
      ]
    },
    {
      "cell_type": "code",
      "execution_count": null,
      "metadata": {
        "id": "wzfY9CRffjNQ"
      },
      "outputs": [],
      "source": []
    },
    {
      "cell_type": "markdown",
      "metadata": {
        "id": "8dw-Y8gckFHs"
      },
      "source": [
        "## Normal Equation vs. Gradient Descent\n",
        "\n",
        "-   **Normal Equation:**\n",
        "    -   **Pros:** Direct solution, no need to choose a learning rate or number of iterations.\n",
        "    -   **Cons:** Computationally expensive for large datasets ($O(n^3)$ due to matrix inversion).\n",
        "\n",
        "-   **Gradient Descent:**\n",
        "    -   **Pros:** More scalable for large datasets.\n",
        "    -   **Cons:** Requires tuning hyperparameters like learning rate and number of iterations.\n",
        "\n",
        "For many real-world problems, especially with massive datasets, libraries like scikit-learn use optimized algorithms (often based on gradient descent) for efficiency."
      ]
    }
  ],
  "metadata": {
    "colab": {
      "provenance": []
    },
    "kernelspec": {
      "display_name": "Python 3",
      "name": "python3"
    },
    "language_info": {
      "codemirror_mode": {
        "name": "ipython",
        "version": 3
      },
      "file_extension": ".py",
      "mimetype": "text/x-python",
      "name": "python",
      "nbconvert_exporter": "python",
      "pygments_lexer": "ipython3",
      "version": "3.13.7"
    }
  },
  "nbformat": 4,
  "nbformat_minor": 0
}
