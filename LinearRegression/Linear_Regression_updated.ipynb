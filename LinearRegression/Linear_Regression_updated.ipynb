{
  "cells": [
    {
      "cell_type": "markdown",
      "metadata": {
        "id": "yVfx1GnHr6Hr"
      },
      "source": [
        "## Python For Machine Learning Fall 2025\n",
        "---\n",
        "# Linear Regression\n",
        "\n"
      ]
    },
    {
      "cell_type": "markdown",
      "metadata": {
        "id": "W6r5cL7n-PiO"
      },
      "source": [
        "**09/28 This version is modified to include a few new examples**"
      ]
    },
    {
      "cell_type": "markdown",
      "metadata": {
        "id": "l3OkaCLpkRV1"
      },
      "source": [
        "\n",
        "### 1. Introduction\n",
        "Linear regression is one of the simplest supervised learning algorithms. In fact, it is so simple that it is sometimes not considered machine learning at all! Whatever you believe, the fact is that linear regression--and its extensions--continues to be a common and useful method of making predictions when the target vector is a quantitative value (e.g. home price, age)"
      ]
    },
    {
      "cell_type": "markdown",
      "metadata": {
        "id": "X2nWMpZ6tbMw"
      },
      "source": [
        "#### 1.1 Early Concepts and the Method of Least Squares\n",
        "\n",
        "The true birth of linear regression is tied to the development of the method of least squares. While several brilliant minds worked on similar problems, two figures are most prominently credited with its creation in the early 19th century.\n",
        "\n",
        "- Adrien-Marie Legendre: the first to publish the method of least squares in 1805\n",
        "- Carl Friedrich Gauss: Gauss claimed he had been using the method since 1795 but didn't publish it until 1809\n",
        "\n",
        "#### 1.2 Regression\n",
        "\n",
        "In the 1880s, Sir Francis Galton was studying the relationship between the heights of parents and their children. He observed that very tall parents tended to have children who were tall, but slightly shorter than them. Similarly, very short parents tended to have children who were short, but slightly taller than them.\n",
        "\n",
        "He called this phenomenon \"regression towards mediocrity,\" which was later termed \"regression to the mean.\" He developed a graphical method to describe this relationship, plotting the parents' heights against the children's heights and drawing a line through the data. He used the term \"regression line\" to describe this relationship. This is where the name of the technique comes from, even though today its primary use is for prediction, not just describing this specific biological phenomenon."
      ]
    },
    {
      "cell_type": "markdown",
      "metadata": {
        "id": "wrPedJx2txfG"
      },
      "source": [
        "#### 1.3 Problem Statement\n",
        "You want to train a model that represents a linear relationship between the feature and target vector.\n",
        "\n",
        "#### 1.4 Solution\n",
        "Use a linear regression (`LinearRegression` in scikit-learn)"
      ]
    },
    {
      "cell_type": "code",
      "execution_count": 1,
      "metadata": {
        "collapsed": true,
        "id": "2mFSHAo0r6Hs"
      },
      "outputs": [],
      "source": [
        "# load libraries\n",
        "from sklearn.linear_model import LinearRegression\n",
        "from sklearn.datasets import make_regression\n",
        "\n",
        "# generate feature matrix, target vector\n",
        "features, target = make_regression(n_samples=100, n_features=3, n_informative=3, random_state=1)\n",
        "\n",
        "# create linear regression\n",
        "regression = LinearRegression()\n",
        "\n",
        "# fit the linear regression\n",
        "model = regression.fit(features, target)"
      ]
    },
    {
      "cell_type": "markdown",
      "metadata": {
        "id": "dyG9mLGsv88z"
      },
      "source": [
        "#### 1.5 Code Interpretation\n",
        "\n",
        "The script uses `scikit-learn` library to perform three main steps:\n",
        "\n",
        "- Generate a synthetic dataset suitable for a regression problem.\n",
        "- Create an instance of a linear regression model.\n",
        "- Train (or \"fit\") the model to the generated data."
      ]
    },
    {
      "cell_type": "markdown",
      "metadata": {
        "id": "XW5tCOTSxkNN"
      },
      "source": [
        "##### 1.5.1 Generating Data\n",
        "`features, target = make_regression(n_samples=100, n_features=3, n_informative=3, random_state=1)`\n",
        "\n",
        "This line calls the make_regression function to create our dataset.\n",
        "\n",
        "`n_samples=100`: This specifies that we want `100` observations or rows in our dataset.\n",
        "\n",
        "`n_features=3`: This means each sample will have `3` descriptive features (or columns).\n",
        "\n",
        "`n_informative=3`: This tells the function that all `3` features should be \"informative,\" meaning they all have a meaningful influence on the target value.\n",
        "\n",
        "`random_state=1`: This is a seed for the random number generator. Using a specific random_state ensures that every time this code is run, the exact same \"random\" data is generated. This is crucial for getting reproducible results.\n",
        "\n",
        "The function returns two things:\n",
        "\n",
        "`features`: A matrix (like a table) with `100` rows and `3` columns. These are the independent variables.\n",
        "\n",
        "`target`: A vector (a single column) with `100` values. This is the dependent variable that the model will learn to predict."
      ]
    },
    {
      "cell_type": "markdown",
      "metadata": {
        "id": "SX6aSRrtxlSj"
      },
      "source": [
        "##### 1.5.2 Creating the Model\n",
        "`regression = LinearRegression()`\n",
        "\n",
        "This line creates an instance of the LinearRegression model. You can think of regression as a blank, untrained model object, ready to learn from data."
      ]
    },
    {
      "cell_type": "markdown",
      "metadata": {
        "id": "_aSW_KFqx46H"
      },
      "source": [
        "##### 1.5.3 Training the model\n",
        "\n",
        "`model = regression.fit(features, target)`\n",
        "\n",
        "This is the most critical step. The `.fit()` method is where the model training happens.\n",
        "\n",
        "`regression.fit(features, target)`: The features and target data were passed to the fit method. The linear regression algorithm then analyzes this data to find the optimal coefficients (or weights) for the three features that best predict the target value. It essentially \"learns\" the mathematical relationship between the inputs (`features`) and the output (`target`).\n",
        "\n",
        "The `model` now holds this trained object, which can be used to make predictions on new, unseen data."
      ]
    },
    {
      "cell_type": "markdown",
      "metadata": {
        "id": "1QeRoY7lyz1i"
      },
      "source": [
        "### 2. Linear Regression Model\n",
        "\n",
        "Linear regression assumes that the relationship between the features and the target vector is approximately linear. That is, the effect (also called coefficient, weight, or parameter) of the features on the target vector is constant. In the solution above, for the sake of explanation, the model was trained using only three features. Thus, the model is as follows:\n",
        "$$\n",
        "y = \\beta_0 + \\beta_1 x_1 + \\beta_2 x_2 + \\beta_3 x_3 + \\varepsilon\n",
        "$$\n"
      ]
    },
    {
      "cell_type": "markdown",
      "metadata": {
        "id": "jodcvD5GS9mM"
      },
      "source": [
        "#### 2.1 Coefficient and Intecept\n",
        "\n",
        "In `sklearn`, the intercept $\\beta_0$ is stored in the model's `intercept_` attribute."
      ]
    },
    {
      "cell_type": "code",
      "execution_count": 2,
      "metadata": {
        "id": "alTxed4t_ZL4"
      },
      "outputs": [
        {
          "data": {
            "text/plain": [
              "np.float64(-1.4210854715202004e-14)"
            ]
          },
          "execution_count": 2,
          "metadata": {},
          "output_type": "execute_result"
        }
      ],
      "source": [
        "model.intercept_"
      ]
    },
    {
      "cell_type": "markdown",
      "metadata": {
        "id": "LHz90_CWVrIx"
      },
      "source": [
        "Corospondingly, the coefficients (or weights) are stored in the model's `coef_` attribute"
      ]
    },
    {
      "cell_type": "code",
      "execution_count": 3,
      "metadata": {
        "id": "YpsfUyE8_ejT"
      },
      "outputs": [
        {
          "data": {
            "text/plain": [
              "array([44.19042807, 98.97517077, 58.15774073])"
            ]
          },
          "execution_count": 3,
          "metadata": {},
          "output_type": "execute_result"
        }
      ],
      "source": [
        "model.coef_"
      ]
    },
    {
      "cell_type": "markdown",
      "metadata": {
        "id": "KbJ2Hkux_mZv"
      },
      "source": [
        "#### 2.2 Make Predictions\n",
        "\n",
        "With the model in hand, we are able to predict the target when given a new sample."
      ]
    },
    {
      "cell_type": "code",
      "execution_count": 4,
      "metadata": {
        "id": "hP5OzMV8_m7B"
      },
      "outputs": [
        {
          "name": "stdout",
          "output_type": "stream",
          "text": [
            "Prediction: -10.38, Target: -10.38, Error: 0.00\n",
            "Prediction: 25.51, Target: 25.51, Error: 0.00\n",
            "Prediction: 19.68, Target: 19.68, Error: 0.00\n",
            "Prediction: 149.50, Target: 149.50, Error: 0.00\n",
            "Prediction: -121.65, Target: -121.65, Error: 0.00\n",
            "Prediction: 90.29, Target: 90.29, Error: 0.00\n",
            "Prediction: 214.01, Target: 214.01, Error: 0.00\n",
            "Prediction: 224.74, Target: 224.74, Error: 0.00\n",
            "Prediction: -73.17, Target: -73.17, Error: 0.00\n",
            "Prediction: -195.63, Target: -195.63, Error: 0.00\n",
            "Prediction: -52.49, Target: -52.49, Error: 0.00\n",
            "Prediction: 201.80, Target: 201.80, Error: 0.00\n",
            "Prediction: 20.27, Target: 20.27, Error: 0.00\n",
            "Prediction: 89.16, Target: 89.16, Error: 0.00\n",
            "Prediction: -4.44, Target: -4.44, Error: 0.00\n",
            "Prediction: -45.48, Target: -45.48, Error: 0.00\n",
            "Prediction: 56.90, Target: 56.90, Error: 0.00\n",
            "Prediction: 120.55, Target: 120.55, Error: 0.00\n",
            "Prediction: -66.22, Target: -66.22, Error: 0.00\n",
            "Prediction: -43.84, Target: -43.84, Error: 0.00\n",
            "Prediction: 34.29, Target: 34.29, Error: 0.00\n",
            "Prediction: -77.51, Target: -77.51, Error: 0.00\n",
            "Prediction: -26.92, Target: -26.92, Error: 0.00\n",
            "Prediction: 197.20, Target: 197.20, Error: 0.00\n",
            "Prediction: 64.41, Target: 64.41, Error: 0.00\n",
            "Prediction: -58.24, Target: -58.24, Error: 0.00\n",
            "Prediction: -100.61, Target: -100.61, Error: 0.00\n",
            "Prediction: 120.31, Target: 120.31, Error: 0.00\n",
            "Prediction: -324.64, Target: -324.64, Error: 0.00\n",
            "Prediction: 11.80, Target: 11.80, Error: 0.00\n",
            "Prediction: -178.34, Target: -178.34, Error: 0.00\n",
            "Prediction: -12.12, Target: -12.12, Error: 0.00\n",
            "Prediction: -25.22, Target: -25.22, Error: 0.00\n",
            "Prediction: 162.27, Target: 162.27, Error: 0.00\n",
            "Prediction: 101.22, Target: 101.22, Error: 0.00\n",
            "Prediction: 128.54, Target: 128.54, Error: 0.00\n",
            "Prediction: -21.93, Target: -21.93, Error: 0.00\n",
            "Prediction: 141.56, Target: 141.56, Error: 0.00\n",
            "Prediction: 70.78, Target: 70.78, Error: 0.00\n",
            "Prediction: 42.76, Target: 42.76, Error: 0.00\n",
            "Prediction: -129.89, Target: -129.89, Error: 0.00\n",
            "Prediction: 75.63, Target: 75.63, Error: 0.00\n",
            "Prediction: 7.76, Target: 7.76, Error: 0.00\n",
            "Prediction: 27.83, Target: 27.83, Error: 0.00\n",
            "Prediction: -56.02, Target: -56.02, Error: 0.00\n",
            "Prediction: -45.13, Target: -45.13, Error: 0.00\n",
            "Prediction: -4.80, Target: -4.80, Error: 0.00\n",
            "Prediction: -224.88, Target: -224.88, Error: 0.00\n",
            "Prediction: -74.02, Target: -74.02, Error: 0.00\n",
            "Prediction: 32.48, Target: 32.48, Error: 0.00\n",
            "Prediction: -145.77, Target: -145.77, Error: 0.00\n",
            "Prediction: 70.44, Target: 70.44, Error: 0.00\n",
            "Prediction: 131.10, Target: 131.10, Error: 0.00\n",
            "Prediction: 152.75, Target: 152.75, Error: 0.00\n",
            "Prediction: -5.81, Target: -5.81, Error: 0.00\n",
            "Prediction: 126.04, Target: 126.04, Error: 0.00\n",
            "Prediction: -194.06, Target: -194.06, Error: 0.00\n",
            "Prediction: -16.07, Target: -16.07, Error: 0.00\n",
            "Prediction: -64.66, Target: -64.66, Error: 0.00\n",
            "Prediction: 89.27, Target: 89.27, Error: 0.00\n",
            "Prediction: 56.82, Target: 56.82, Error: 0.00\n",
            "Prediction: -116.59, Target: -116.59, Error: 0.00\n",
            "Prediction: 70.91, Target: 70.91, Error: 0.00\n",
            "Prediction: 56.13, Target: 56.13, Error: 0.00\n",
            "Prediction: 79.90, Target: 79.90, Error: 0.00\n",
            "Prediction: -44.90, Target: -44.90, Error: 0.00\n",
            "Prediction: -27.11, Target: -27.11, Error: 0.00\n",
            "Prediction: 100.82, Target: 100.82, Error: 0.00\n",
            "Prediction: 180.76, Target: 180.76, Error: 0.00\n",
            "Prediction: -45.03, Target: -45.03, Error: 0.00\n",
            "Prediction: -40.29, Target: -40.29, Error: 0.00\n",
            "Prediction: 4.71, Target: 4.71, Error: 0.00\n",
            "Prediction: -77.64, Target: -77.64, Error: 0.00\n",
            "Prediction: 17.78, Target: 17.78, Error: 0.00\n",
            "Prediction: 145.36, Target: 145.36, Error: 0.00\n",
            "Prediction: -32.14, Target: -32.14, Error: 0.00\n",
            "Prediction: 42.56, Target: 42.56, Error: 0.00\n",
            "Prediction: -50.69, Target: -50.69, Error: 0.00\n",
            "Prediction: 39.11, Target: 39.11, Error: 0.00\n",
            "Prediction: -11.17, Target: -11.17, Error: 0.00\n",
            "Prediction: 190.83, Target: 190.83, Error: 0.00\n",
            "Prediction: -41.25, Target: -41.25, Error: 0.00\n",
            "Prediction: -110.54, Target: -110.54, Error: 0.00\n",
            "Prediction: 108.40, Target: 108.40, Error: 0.00\n",
            "Prediction: 4.06, Target: 4.06, Error: 0.00\n",
            "Prediction: -11.23, Target: -11.23, Error: 0.00\n",
            "Prediction: 104.02, Target: 104.02, Error: 0.00\n",
            "Prediction: 135.56, Target: 135.56, Error: 0.00\n",
            "Prediction: 107.92, Target: 107.92, Error: 0.00\n",
            "Prediction: -17.17, Target: -17.17, Error: 0.00\n",
            "Prediction: 37.10, Target: 37.10, Error: 0.00\n",
            "Prediction: 63.82, Target: 63.82, Error: 0.00\n",
            "Prediction: -97.81, Target: -97.81, Error: 0.00\n",
            "Prediction: -145.52, Target: -145.52, Error: 0.00\n",
            "Prediction: 354.71, Target: 354.71, Error: 0.00\n",
            "Prediction: 26.61, Target: 26.61, Error: 0.00\n",
            "Prediction: -63.10, Target: -63.10, Error: 0.00\n",
            "Prediction: 112.40, Target: 112.40, Error: 0.00\n",
            "Prediction: 66.65, Target: 66.65, Error: 0.00\n",
            "Prediction: -18.76, Target: -18.76, Error: 0.00\n"
          ]
        }
      ],
      "source": [
        "predictions = model.predict(features)\n",
        "for pred, tar in zip(predictions, target):\n",
        "    print(f\"Prediction: {pred:.2f}, Target: {tar:.2f}, Error: {abs(pred-tar):.2f}\")"
      ]
    },
    {
      "cell_type": "markdown",
      "metadata": {
        "id": "IvWqawlXagSo"
      },
      "source": [
        "#### 2.3 Evaluation using `score()`\n",
        "\n",
        "`sklearn` provides `score()` function for more efficient evaluation. The `model.score(X, y)` method performs two main steps internally:\n",
        "\n",
        "- It uses the input data `X` to generate predictions by calling the `model.predict(X)` method.\n",
        "\n",
        "- It then compares these predictions against the true labels `y` and returns a single score based on a default metric.\n",
        "\n",
        "The specific metric used depends on whether you are doing classification or regression.The function takes"
      ]
    },
    {
      "cell_type": "code",
      "execution_count": 5,
      "metadata": {
        "id": "w9NW7ZFBaoo2"
      },
      "outputs": [
        {
          "data": {
            "text/plain": [
              "1.0"
            ]
          },
          "execution_count": 5,
          "metadata": {},
          "output_type": "execute_result"
        }
      ],
      "source": [
        "model.score(features, target)"
      ]
    },
    {
      "cell_type": "markdown",
      "metadata": {
        "id": "zZXky-jachUe"
      },
      "source": [
        "#### 2.4 Noise\n",
        "\n",
        "Data in the real world is rarely perfect and almost always contains noise. As a result, a model's predictions won't align perfectly with observed values. In fact, it's completely normal for a model to have some degree of error.\n",
        "\n",
        "The"
      ]
    },
    {
      "cell_type": "code",
      "execution_count": 6,
      "metadata": {
        "id": "Ia0RTilsdK4W"
      },
      "outputs": [
        {
          "data": {
            "text/plain": [
              "0.9982787415211123"
            ]
          },
          "execution_count": 6,
          "metadata": {},
          "output_type": "execute_result"
        }
      ],
      "source": [
        "# generate feature matrix, target vector\n",
        "features, target = make_regression(n_samples=100, n_features=3, n_informative=3, noise=5, random_state=1)\n",
        "\n",
        "# create linear regression\n",
        "regression = LinearRegression()\n",
        "\n",
        "# fit the linear regression\n",
        "model = regression.fit(features, target)\n",
        "model.score(features, target)"
      ]
    },
    {
      "cell_type": "markdown",
      "metadata": {
        "id": "RwLniDuOd8oz"
      },
      "source": [
        "The make_regression function first generates data based on a perfect linear relationship：\n",
        "$$\n",
        "y = \\beta_0 + \\beta_1 x_1 + \\beta_2 x_2 + \\beta_3 x_3\n",
        "$$\n",
        "\n",
        "Here, vector $[\\beta_0, \\beta_1, \\beta_2, \\beta_3]$ represents the true coefficients (which can be obtained by setting the `coef` parameter to `True`). If the data were generated this way, all the points would fall perfectly on a straight line (or a hyperplane in higher dimensions).\n",
        "\n",
        "However, real-world data always has noise. The noise parameter is used to simulate this imperfection. It adds random numbers to the perfect y values, drawn from a normal distribution (also called a Gaussian distribution) with a mean of `0` and a standard deviation equal to the value you specify."
      ]
    },
    {
      "cell_type": "markdown",
      "metadata": {
        "id": "64YCJ-sUpLHj"
      },
      "source": [
        "### 3. Interaction Effect\n",
        "\n",
        "An interaction effect (or simply \"interaction\") occurs when the effect of one independent variable on an outcome depends on the level or value of at least one other independent variable. In simpler terms, the variables don't work in isolation; their combined impact is different from the sum of their individual impacts."
      ]
    },
    {
      "cell_type": "markdown",
      "metadata": {
        "id": "4PFRSkLlvz_F"
      },
      "source": [
        "#### 3.1 Simple Example\n",
        "\n",
        "For example, imagine a simple coffee-based example where we have two binary features--the presence of sugar  and whether or not we have stirred-—and we want to predict if the coffee tastes sweet. Just putting sugar in the coffee (`sugar=1, stirred=0`) won't make the coffee taste sweet (all the sugar is at the bottom!) and just stirring the coffee without adding sugar (`sugar=0, stirred=1`) won't make it sweet either. Instead it is the interaction of putting sugar in the coffee and stirring the coffee (`sugar=1, stirred=1`) that will make a coffee taste sweet. The effects of sugar and stirred on sweetness are dependent on each other. In this case we say there is an interaction effect between the features sugar and stirred."
      ]
    },
    {
      "cell_type": "markdown",
      "metadata": {
        "id": "WURr7xZGqZFb"
      },
      "source": [
        "#### 3.2 Model the Interaction Effect\n",
        "\n",
        "Now, let's generate a group of samples with higher noise. We can certainly expect the model performs poorly on the new dataset."
      ]
    },
    {
      "cell_type": "code",
      "execution_count": 7,
      "metadata": {
        "id": "8xaS0a50qK0w"
      },
      "outputs": [
        {
          "data": {
            "text/plain": [
              "0.9934809005449953"
            ]
          },
          "execution_count": 7,
          "metadata": {},
          "output_type": "execute_result"
        }
      ],
      "source": [
        "# generate feature matrix, target vector\n",
        "from sklearn.datasets import make_regression\n",
        "from sklearn.linear_model import LinearRegression\n",
        "\n",
        "features, targets = make_regression(n_samples = 100, n_features = 3, noise = 5)\n",
        "\n",
        "# create linear regression\n",
        "model = LinearRegression()\n",
        "\n",
        "\n",
        "# fit the linear regression\n",
        "model.fit(features, targets)\n",
        "model.score(features, targets)\n",
        "\n"
      ]
    },
    {
      "cell_type": "markdown",
      "metadata": {
        "id": "IGVBPDUrqs2S"
      },
      "source": [
        "Then we create the interaction term, as follows."
      ]
    },
    {
      "cell_type": "code",
      "execution_count": 8,
      "metadata": {
        "id": "ZXdWPZerqykK"
      },
      "outputs": [],
      "source": [
        "from sklearn.preprocessing import PolynomialFeatures\n",
        "interaction = PolynomialFeatures(\n",
        "    degree=3, include_bias=False, interaction_only=True)"
      ]
    },
    {
      "cell_type": "markdown",
      "metadata": {
        "id": "Era8qOcArGOm"
      },
      "source": [
        "The parameters of the interaction term are as follows:\n",
        "- `degree`\n",
        "This parameter defines the maximum degree of the features to be created. Here, \"degree\" refers to the total number of features multiplied together in a single term.\n",
        "\n",
        "- `interaction_only=False` (The default): This generates all feature combinations up to the specified degree, including powers of a single feature. For example, with $[x1, x2]$ and `degree=3`, it would generate $x_1$, $x_2$, $x_1^2$, $x_1\\cdot x_2$, $x_2^2$, $x_1^3$, $x_1^2\\cdot x_2$, $x_1\\cdot x_2^2$, $x_2^3$.\n",
        "- `interaction_only=True`: This generates only the products of different features (interaction terms) and will not generate powers of a single feature (like x1² or x1³). Its goal is purely to capture the \"interaction\" between features, not the non-linear relationship of a single feature with itself.\n",
        "- `include_bias=True` (The default): This adds a column of all 1s as the first feature. This 1 corresponds to the constant term (the intercept) in a polynomial equation, equivalent to x_1\n",
        "0\n",
        "- `include_bias=False`: This does not add the column of all 1s."
      ]
    },
    {
      "cell_type": "markdown",
      "metadata": {
        "id": "5qi6kUX4rEoB"
      },
      "source": [
        "The `.fit_transform(features)` method applies this rule to the original features."
      ]
    },
    {
      "cell_type": "code",
      "execution_count": 9,
      "metadata": {
        "id": "W7hP91cOuqQv"
      },
      "outputs": [
        {
          "name": "stdout",
          "output_type": "stream",
          "text": [
            "(100, 7)\n"
          ]
        }
      ],
      "source": [
        "features_interaction = interaction.fit_transform(features)\n",
        "print(features_interaction.shape)"
      ]
    },
    {
      "cell_type": "markdown",
      "metadata": {
        "id": "qsTIaZ_7u0_A"
      },
      "source": [
        "Finally, a standard `LinearRegression` model is created and trained using the `.fit()` method. Crucially, it's trained on the enhanced feature matrix, `features_interaction`, which includes the interaction term, allowing the model to find the best coefficients for not just $x_1$ and $x_2$, but also for their product, $x_1\\cdot x_2$."
      ]
    },
    {
      "cell_type": "code",
      "execution_count": 10,
      "metadata": {
        "id": "2d1L1EESu1T6"
      },
      "outputs": [
        {
          "data": {
            "text/plain": [
              "0.9940881465323307"
            ]
          },
          "execution_count": 10,
          "metadata": {},
          "output_type": "execute_result"
        }
      ],
      "source": [
        "regression = LinearRegression()\n",
        "\n",
        "# Fit the linear regression\n",
        "model = regression.fit(features_interaction, targets)\n",
        "model.score(features_interaction, targets)"
      ]
    },
    {
      "cell_type": "markdown",
      "metadata": {
        "id": "MN0FyRHqwFv1"
      },
      "source": [
        "### 4 Nonlinear Relationship\n",
        "\n",
        "Although linear relationships are highly interpretable and practical, nonlinear relationships are more prevalent in reality. Consequently, polynomial fitting often yields superior results. As the most widely used machine learning library, `scikit-learn` inherently supports polynomial fitting."
      ]
    },
    {
      "cell_type": "markdown",
      "metadata": {
        "id": "K-yUnb4iy1TQ"
      },
      "source": [
        "#### 4.1 Creating Polynomial Features"
      ]
    },
    {
      "cell_type": "code",
      "execution_count": 11,
      "metadata": {
        "id": "Umh9-0e-yr3T"
      },
      "outputs": [
        {
          "name": "stdout",
          "output_type": "stream",
          "text": [
            "(100, 19)\n"
          ]
        }
      ],
      "source": [
        "from sklearn.preprocessing import PolynomialFeatures\n",
        "interaction = PolynomialFeatures(\n",
        "    degree=3,\n",
        "    include_bias=False,\n",
        "    interaction_only=False\n",
        ")\n",
        "\n",
        "features_polynomial = interaction.fit_transform(features)\n",
        "print(features_polynomial.shape)\n"
      ]
    },
    {
      "cell_type": "markdown",
      "metadata": {
        "id": "mW_xUZK9y7Oi"
      },
      "source": [
        "#### 4.2 Model Training and Evaluation"
      ]
    },
    {
      "cell_type": "code",
      "execution_count": 12,
      "metadata": {
        "id": "Tt59OKqMy8IU"
      },
      "outputs": [
        {
          "data": {
            "text/plain": [
              "0.9956629795898877"
            ]
          },
          "execution_count": 12,
          "metadata": {},
          "output_type": "execute_result"
        }
      ],
      "source": [
        "regression = LinearRegression()\n",
        "\n",
        "# fit the linear regression\n",
        "model = regression.fit(features_polynomial, targets)\n",
        "model.score(features_polynomial, targets)"
      ]
    },
    {
      "cell_type": "markdown",
      "metadata": {
        "id": "wL4fYq2H_vbf"
      },
      "source": [
        "### 5. Overfitting\n",
        "Although using higher-order polynomial features offers significant advantages over first-order features, a more powerful model is not always better in machine learning. There are two primary reasons for this: first, computational efficiency, as complex models are slower and require more space, and second, the tendency to overfit when training data is insufficient.\n",
        "\n",
        "We will frequently deal with overfitting in this course. Here is a simple example."
      ]
    },
    {
      "cell_type": "code",
      "execution_count": 13,
      "metadata": {
        "id": "DFh76p5WBo3E"
      },
      "outputs": [],
      "source": [
        "# import necessary packages\n",
        "import numpy as np\n",
        "import matplotlib.pyplot as plt\n",
        "from sklearn.datasets import make_regression"
      ]
    },
    {
      "cell_type": "code",
      "execution_count": 14,
      "metadata": {
        "id": "4sCfg2e-FO1C"
      },
      "outputs": [],
      "source": [
        "# Generate simple linear data with noise\n",
        "np.random.seed(73)\n",
        "X, y, true_coefficient = make_regression(\n",
        "    n_samples = 20,\n",
        "    n_features = 1,\n",
        "    noise = 5,\n",
        "    coef = True)"
      ]
    },
    {
      "cell_type": "code",
      "execution_count": 15,
      "metadata": {
        "id": "Q5S5jEWCHHsH"
      },
      "outputs": [],
      "source": [
        "# Define a simple linear model (the correct choice for this data)\n",
        "linear_model = LinearRegression()"
      ]
    },
    {
      "cell_type": "code",
      "execution_count": 16,
      "metadata": {
        "id": "7yHNQ28hHMSI"
      },
      "outputs": [],
      "source": [
        "# A high-degree polynomial model that is too complex for this data\n",
        "from sklearn.pipeline import make_pipeline\n",
        "polynomial_model = make_pipeline(PolynomialFeatures(degree = 15), LinearRegression())"
      ]
    },
    {
      "cell_type": "code",
      "execution_count": 17,
      "metadata": {
        "id": "JPm67iu1HUuq"
      },
      "outputs": [
        {
          "name": "stdout",
          "output_type": "stream",
          "text": [
            "0.09122742978539222\n",
            "0.6344237680498372\n"
          ]
        }
      ],
      "source": [
        "# Train the models\n",
        "linear_model.fit(X, y)\n",
        "polynomial_model.fit(X, y)\n",
        "print(linear_model.score(X, y))\n",
        "print(polynomial_model.score(X, y))"
      ]
    },
    {
      "cell_type": "code",
      "execution_count": 18,
      "metadata": {
        "id": "aW2IgT4cGbaF"
      },
      "outputs": [
        {
          "data": {
            "image/png": "[encoded data removed]",
            "text/plain": [
              "<Figure size 1000x800 with 1 Axes>"
            ]
          },
          "metadata": {},
          "output_type": "display_data"
        }
      ],
      "source": [
        "# Visualize the results\n",
        "X_plot = np.linspace(X.min(), X.max(), 100)[:, np.newaxis]\n",
        "\n",
        "plt.figure(figsize=(10, 8))\n",
        "# Plot the original data points\n",
        "plt.scatter(X, y, edgecolor='b', s=50, label=\"Training Data Points\")\n",
        "# Plot the true underlying function (a line with the known coefficient)\n",
        "plt.plot(X_plot, X_plot * true_coefficient, color='gray', linestyle='--', linewidth=2, label=\"True Function (Signal)\")\n",
        "# Plot the linear model's predictions\n",
        "plt.plot(X_plot, linear_model.predict(X_plot), color='green', linewidth=2, label=\"Linear Model (Correct Fit)\")\n",
        "# Plot the polynomial model's predictions\n",
        "plt.plot(X_plot, polynomial_model.predict(X_plot), color='red', linewidth=2, label=\"Polynomial Model (Overfitting)\")\n",
        "\n",
        "plt.title(\"Overfitting with make_regression Data\")\n",
        "plt.xlabel(\"Feature\")\n",
        "plt.ylabel(\"Target\")\n",
        "plt.legend()\n",
        "plt.grid(True, linestyle='--', alpha=0.6)\n",
        "plt.show()"
      ]
    },
    {
      "cell_type": "markdown",
      "metadata": {
        "id": "j1TLaStkJodM"
      },
      "source": [
        "### 6. Evaluation\n",
        "Accurately evaluating a model's performance is crucial, but it is not a simple task. Although we optimize a model to minimize a loss function on the training data, its strong performance on that set often does not represent its true performance on new data."
      ]
    },
    {
      "cell_type": "markdown",
      "metadata": {
        "id": "KY5HODfCLQt0"
      },
      "source": [
        "#### 6.1 Generalization\n",
        "\n",
        "For example, when we compare the performance of the two models above on the training set, we can see that the higher-order model fits the training data better."
      ]
    },
    {
      "cell_type": "code",
      "execution_count": 19,
      "metadata": {
        "id": "40XgL0kLLD0H"
      },
      "outputs": [],
      "source": [
        "# Generate testing data\n",
        "X_test = np.random.randn(100, 1)\n",
        "y_test = X_test * true_coefficient"
      ]
    },
    {
      "cell_type": "markdown",
      "metadata": {
        "id": "0MVmBncbLN1P"
      },
      "source": [
        "However, the results may be very different if we generate new data using the true underlying function."
      ]
    },
    {
      "cell_type": "code",
      "execution_count": 20,
      "metadata": {
        "id": "rbiX1iE9OLbO"
      },
      "outputs": [
        {
          "name": "stdout",
          "output_type": "stream",
          "text": [
            "0.5907782741714495\n",
            "-6083656492155.539\n"
          ]
        }
      ],
      "source": [
        "# Generate testing data according to the true parameters\n",
        "print(linear_model.score(X_test, y_test))\n",
        "print(polynomial_model.score(X_test, y_test))"
      ]
    },
    {
      "cell_type": "code",
      "execution_count": 21,
      "metadata": {
        "id": "UmQ2w8JEOWgL"
      },
      "outputs": [],
      "source": [
        "# Evaluate the models\n"
      ]
    },
    {
      "cell_type": "markdown",
      "metadata": {
        "id": "AFz_rbXXPd7n"
      },
      "source": [
        "#### 6.2 Train/Test Split\n",
        "\n",
        "Since the true data distribution is generally unknown in machine learning, a train/test split is used to separate the data. This allows us to verify the model's generalization performance on the test data after training on the training data."
      ]
    },
    {
      "cell_type": "code",
      "execution_count": 22,
      "metadata": {
        "id": "14NimaISQbJa"
      },
      "outputs": [
        {
          "name": "stdout",
          "output_type": "stream",
          "text": [
            "(80, 3) (20, 3)\n"
          ]
        }
      ],
      "source": [
        "\n",
        "X, y, true_coefficient = make_regression(\n",
        "    n_samples = 100,\n",
        "    n_features = 3,\n",
        "    noise = 5,\n",
        "    coef = True\n",
        ")\n",
        "\n",
        "# Create training and testing data using train_test_split\n",
        "from sklearn.model_selection import train_test_split\n",
        "\n",
        "X_train, X_test, y_train, y_test = train_test_split(\n",
        "    X, y, test_size = 0.2, random_state=42,\n",
        ")\n",
        "\n",
        "print(X_train.shape, X_test.shape)"
      ]
    },
    {
      "cell_type": "markdown",
      "metadata": {
        "id": "chWX6pTVRFnV"
      },
      "source": [
        "In this way, we can conduct a full training and testing procedure."
      ]
    },
    {
      "cell_type": "code",
      "execution_count": 23,
      "metadata": {
        "id": "2-lnvg9RRVHl"
      },
      "outputs": [
        {
          "name": "stdout",
          "output_type": "stream",
          "text": [
            "0.9975396873912937\n",
            "-132385236.2736809\n"
          ]
        }
      ],
      "source": [
        "# Train the models on training data\n",
        "linear_model.fit(X_train, y_train)\n",
        "polynomial_model.fit(X_train, y_train)\n",
        "\n",
        "# Test the models on testing data\n",
        "print(linear_model.score(X_test, y_test))\n",
        "print(polynomial_model.score(X_test, y_test))\n"
      ]
    },
    {
      "cell_type": "markdown",
      "metadata": {
        "id": "AdmzlyV9epPG"
      },
      "source": [
        "#### 6.3 Cross Validation\n",
        "\n",
        "While a train/test split is a great starting point, it's often not robust enough for reporting final results for a few key reasons.\n",
        "\n",
        "- Unrepresentative Split: Your single test set is just a subset of your available data. A random split might get \"lucky\" and not accurately represent the overall data distribution, leading to misleading performance metrics.\n",
        "\n",
        "- Hyperparameter Tuning: You might unintentionally choose hyperparameters that perform best on your specific test set. This means your model is overfitted to that test data and won't generalize well to new, unseen data.\n",
        "\n",
        "Because of these issues, cross-validation has become the standard and more reliable method for evaluating a model's true performance. It helps ensure that your results are more stable and less dependent on the luck of a single data split."
      ]
    },
    {
      "cell_type": "code",
      "execution_count": 29,
      "metadata": {
        "id": "2Q7MWxLYnJ2V"
      },
      "outputs": [],
      "source": [
        "# Create a dataset\n",
        "X, y, true_coefficient = make_regression(\n",
        "    n_samples=2000,\n",
        "    n_features=1,\n",
        "    noise=5,\n",
        "    coef=True\n",
        ")"
      ]
    },
    {
      "cell_type": "code",
      "execution_count": 30,
      "metadata": {
        "id": "Px7BmfmmpGVy"
      },
      "outputs": [],
      "source": [
        "# Define the model\n",
        "model = LinearRegression()"
      ]
    },
    {
      "cell_type": "code",
      "execution_count": 32,
      "metadata": {
        "id": "izfbbCzepKS1"
      },
      "outputs": [],
      "source": [
        "# Set up k-fold cross validation\n",
        "from sklearn.model_selection import KFold\n",
        "n_split = 5\n",
        "Kf = KFold(n_splits=n_split, shuffle=True)"
      ]
    },
    {
      "cell_type": "code",
      "execution_count": 46,
      "metadata": {
        "id": "qwK3e7YXpkXL"
      },
      "outputs": [
        {
          "name": "stdout",
          "output_type": "stream",
          "text": [
            "MAE at iteration 1 is 4.051635558514329\n",
            "MAE at iteration 2 is 4.074154085436633\n",
            "MAE at iteration 3 is 3.591722647619734\n",
            "MAE at iteration 4 is 3.7946630733126097\n",
            "MAE at iteration 5 is 4.1105539083964935\n"
          ]
        }
      ],
      "source": [
        "# Create a full cross-validation loop\n",
        "from sklearn.metrics import mean_absolute_error\n",
        "\n",
        "mae_score = []\n",
        "fold_number = 1\n",
        "\n",
        "for train_idx, test_idx in Kf.split(X):\n",
        "    # Generate training and testing datasets\n",
        "    X_train, y_train = X[train_idx], y[train_idx]\n",
        "    X_test, y_test = X[test_idx], y[test_idx]\n",
        "\n",
        "    # Fit the model to the new data\n",
        "    model.fit(X_train, y_train)\n",
        "\n",
        "    # Make predictions\n",
        "    preds = model.predict(X_test)\n",
        "\n",
        "    # Calculate our MAE value\n",
        "    mae = mean_absolute_error(y_test, preds)\n",
        "    mae_score.append(mae)\n",
        "\n",
        "    print(f\"MAE at iteration {fold_number} is {mae}\")\n",
        "\n",
        "    fold_number += 1"
      ]
    },
    {
      "cell_type": "markdown",
      "metadata": {
        "id": "y2ymh_YyqFxb"
      },
      "source": [
        "We can evaluate the model's performance using the average Mean Absolute Error (MAE) from a five-fold cross-validation. This method provides a more reliable evaluation because it utilizes all available data. We will later discuss using a nested cross-validation for a train-validation-test split."
      ]
    },
    {
      "cell_type": "markdown",
      "metadata": {
        "id": "uwGBJ8nnzkAZ"
      },
      "source": [
        "### 7. Standardization, Normalization, and Regularization\n",
        "\n",
        "Standardization is a data preprocessing technique used in machine learning and statistics to transform features to be on a similar scale. It rescales the data to have a **mean ($\\mu$) of 0** and a **standard deviation ($\\sigma$) of 1**. This is achieved by subtracting the mean of the feature from each data point ($x$) and then dividing by the standard deviation: $z = (x - \\mu) / \\sigma$. This resulting value, known as a **z-score**, represents the number of standard deviations a data point is from the mean. The primary benefit of standardization is that it prevents features with larger scales from dominating those with smaller scales in algorithms that are sensitive to feature magnitudes, such as support vector machines (SVMs), principal component analysis (PCA), and gradient-based optimization methods. By putting all features on a common scale, standardization helps these algorithms converge faster and perform more effectively. ⚖️"
      ]
    },
    {
      "cell_type": "markdown",
      "metadata": {
        "id": "XWXqp9lHBY6t"
      },
      "source": [
        "#### 7.1 Standardization\n",
        "\n",
        "`sklearn` provides strong support for data preprocessing. For standardization, the `StandardScaler` is quite convinient. First, let's generate the dataset.\n"
      ]
    },
    {
      "cell_type": "code",
      "execution_count": 62,
      "metadata": {
        "id": "fOBF4B74fZEw"
      },
      "outputs": [
        {
          "name": "stdout",
          "output_type": "stream",
          "text": [
            "[[-2.25089865 -0.83594424 -0.4606569 ]\n",
            " [-0.49902315 -0.25348872 -0.72856865]\n",
            " [ 0.06848923  1.80958867 -0.4768662 ]\n",
            " [-1.28070391  0.65152494 -0.14536692]]\n",
            "[ 0.16893408  0.06071499 -0.14799111]\n"
          ]
        }
      ],
      "source": [
        "# Create a dataset\n",
        "X, y, true_coefficient = make_regression(\n",
        "    n_samples=100,\n",
        "    n_features=3,\n",
        "    noise=5,\n",
        "    coef=True\n",
        ")\n",
        "\n",
        "print(X[:4])\n",
        "print(np.mean(X, axis=0))"
      ]
    },
    {
      "cell_type": "markdown",
      "metadata": {
        "id": "ZTmlz7dohRat"
      },
      "source": [
        "Then, we can perform standardization on the generated data."
      ]
    },
    {
      "cell_type": "code",
      "execution_count": 66,
      "metadata": {
        "id": "PcGqPRjkfkQW"
      },
      "outputs": [
        {
          "name": "stdout",
          "output_type": "stream",
          "text": [
            "[4.44089210e-17 4.23272528e-17 9.99200722e-18]\n",
            "[[-2.72992883 -1.01728226 -0.37115132]\n",
            " [-0.75355444 -0.35647194 -0.68917715]\n",
            " [-0.11331663  1.98414081 -0.39039264]\n",
            " [-1.63540583  0.67028863  0.00311505]]\n"
          ]
        }
      ],
      "source": [
        "# Perform standardization\n",
        "from sklearn.preprocessing import StandardScaler\n",
        "\n",
        "scaler = StandardScaler()\n",
        "\n",
        "# Standaardize our data\n",
        "X_std = scaler.fit_transform(X)\n",
        "\n",
        "print(np.mean(X_std, axis=0))\n",
        "print(X_std[:4, :])"
      ]
    },
    {
      "cell_type": "markdown",
      "metadata": {
        "id": "aFrVDouXhaP3"
      },
      "source": [
        "You will notice that after standarization, the variables in the data follows normal distribution."
      ]
    },
    {
      "cell_type": "markdown",
      "metadata": {
        "id": "lEkuuRJrslM-"
      },
      "source": [
        "#### 7.2 Normalization\n",
        "\n"
      ]
    },
    {
      "cell_type": "markdown",
      "metadata": {
        "id": "1LADjzXQsrVl"
      },
      "source": [
        "Normalization is a data preprocessing technique that scales numerical features to a fixed range, most commonly between 0 and 1. This method is also known as min-max scaling. The transformation is performed by subtracting the minimum value ($X_\n",
        "{min}$) from each data point ($X$) and then dividing by the total range of the feature ($X_{max}-X_{min}$): $X_{norm}=(X-X_{min})/(X_{max}-X_{min}$). Normalization is especially useful for algorithms that don't assume a specific distribution of the data, such as k-nearest neighbors (KNN) and neural networks, as it ensures all features contribute more equally to the result. Unlike standardization, normalization is sensitive to outliers because the minimum and maximum values directly dictate the scaled range."
      ]
    },
    {
      "cell_type": "markdown",
      "metadata": {
        "id": "vd_fnUpIyF5h"
      },
      "source": [
        "`sklearn` provides robust support for normalization, primarily through the `MinMaxScaler` class found in its `preprocessing` module."
      ]
    },
    {
      "cell_type": "code",
      "execution_count": 67,
      "metadata": {
        "id": "J9_lZM7RynFL"
      },
      "outputs": [
        {
          "name": "stdout",
          "output_type": "stream",
          "text": [
            "[0.47238923 0.56255598 0.46248243]\n"
          ]
        }
      ],
      "source": [
        "# Perform normalization\n",
        "from sklearn.preprocessing import MinMaxScaler\n",
        "\n",
        "scaler = MinMaxScaler()\n",
        "X_norm = scaler.fit_transform(X)\n",
        "\n",
        "print(np.mean(X_norm, axis=0))"
      ]
    },
    {
      "cell_type": "markdown",
      "metadata": {
        "id": "TgA1P6t8hl-C"
      },
      "source": [
        "#### 7.3 Ridge Regression\n",
        "\n",
        "The idea of regularization is to add a penalty to the original loss function. For a brief understanding, we present the loss function of linear regression.  The standard loss function for linear regression is the Mean Squared Error (MSE). The loss reflects the average squared difference between the model's predictions and the actual data.\n",
        "\n",
        "$$\n",
        "J(\\theta) = \\frac{1}{2n}Σ_{i=1}^n(y_i -\\hat{y_i})^2\n",
        "$$\n",
        "\n",
        "If you don't take the average of the loss, you will get the residual sum of squares (RSS).\n",
        "$$\n",
        "RSS = Σ_{i=1}^n(y_i -\\hat{y_i})^2\n",
        "$$"
      ]
    },
    {
      "cell_type": "markdown",
      "metadata": {
        "id": "gri9qg0mj09C"
      },
      "source": [
        "The `ridge` regression adds a penalty that is is a tuning hyperparameter multiplied by the squared sum of all coefficients to the loss function, as follows:\n",
        "$$\n",
        "J(\\theta) = \\frac{1}{2n}Σ_{i=1}^n(y_i -\\hat{y_i})^2 + \\lambda\\Sigma_{j=1}^n\\hat{\\beta_j}^2\n",
        "$$"
      ]
    },
    {
      "cell_type": "code",
      "execution_count": null,
      "metadata": {
        "id": "o-UPFW_-zBVX"
      },
      "outputs": [
        {
          "name": "stdout",
          "output_type": "stream",
          "text": [
            "0.9933124211093093\n"
          ]
        }
      ],
      "source": [
        "# Use Ridge regression in sklearn\n",
        "from sklearn.linear_model import Ridge, LinearRegression, Lasso\n",
        "\n",
        "regression_ridge = Ridge(alpha=0.5)\n",
        "model_ridge = regression_ridge.fit(X_std, y)\n",
        "print(model_ridge.score(X_std, y))"
      ]
    },
    {
      "cell_type": "markdown",
      "metadata": {
        "id": "DfB8TFYpzXen"
      },
      "source": [
        "#### 7.4 Lasso Regression\n",
        "\n",
        "Lasso regression, on the other hand, add L1 regularization to the loss, which lead to:\n",
        "$$\n",
        "J(\\theta) = \\frac{1}{2n}Σ_{i=1}^n(y_i -\\hat{y_i})^2 + \\lambda\\Sigma_{j=1}^n|\\hat{\\beta_j}|\n",
        "$$"
      ]
    },
    {
      "cell_type": "code",
      "execution_count": 88,
      "metadata": {
        "id": "oFyT5Hu_8fKR"
      },
      "outputs": [
        {
          "name": "stdout",
          "output_type": "stream",
          "text": [
            "0.9931168095726196\n"
          ]
        }
      ],
      "source": [
        "# Use Lasso regression in sklearn\n",
        "regression_lasso = Lasso(alpha=0.5)\n",
        "model_lasso = regression_lasso.fit(X_std, y)\n",
        "print(model_lasso.score(X_std, y))\n",
        "\n",
        "regression_linear = LinearRegression()\n",
        "model_linear = regression_linear.fit(X_std, y)"
      ]
    },
    {
      "cell_type": "markdown",
      "metadata": {
        "id": "Pts94Bj_8orU"
      },
      "source": [
        "Ridge (L2 regularization) and Lasso (L1 regularization) yield distinct outcomes. Intuitively, ridge regression does not force coefficients to be exactly zero, but rather shrinks the magnitude of each coefficient. In contrast, lasso regression performs a function analogous to feature selection by setting the coefficients of irrelevant features to zero."
      ]
    },
    {
      "cell_type": "code",
      "execution_count": null,
      "metadata": {
        "id": "yFsI8_nG97zZ"
      },
      "outputs": [
        {
          "name": "stdout",
          "output_type": "stream",
          "text": [
            "[ 8.84997126 19.44389271 55.65077452]\n",
            "[ 9.25335487 19.98502073 56.12923882]\n"
          ]
        },
        {
          "ename": "NameError",
          "evalue": "name 'model_lienar' is not defined",
          "output_type": "error",
          "traceback": [
            "\u001b[31m---------------------------------------------------------------------------\u001b[39m",
            "\u001b[31mNameError\u001b[39m                                 Traceback (most recent call last)",
            "\u001b[36mCell\u001b[39m\u001b[36m \u001b[39m\u001b[32mIn[89]\u001b[39m\u001b[32m, line 4\u001b[39m\n\u001b[32m      2\u001b[39m \u001b[38;5;28mprint\u001b[39m(model_lasso.coef_)\n\u001b[32m      3\u001b[39m \u001b[38;5;28mprint\u001b[39m(model_ridge.coef_)\n\u001b[32m----> \u001b[39m\u001b[32m4\u001b[39m \u001b[38;5;28mprint\u001b[39m(\u001b[43mmodel_lienar\u001b[49m.coef_)\n",
            "\u001b[31mNameError\u001b[39m: name 'model_lienar' is not defined"
          ]
        }
      ],
      "source": [
        "# Print the coefficients in both models\n",
        "print(model_lasso.coef_)\n",
        "print(model_ridge.coef_)\n",
        "print(model_linear.coef_)"
      ]
    }
  ],
  "metadata": {
    "colab": {
      "provenance": [],
      "toc_visible": true
    },
    "kernelspec": {
      "display_name": "Python 3",
      "language": "python",
      "name": "python3"
    },
    "language_info": {
      "codemirror_mode": {
        "name": "ipython",
        "version": 3
      },
      "file_extension": ".py",
      "mimetype": "text/x-python",
      "name": "python",
      "nbconvert_exporter": "python",
      "pygments_lexer": "ipython3",
      "version": "3.13.7"
    }
  },
  "nbformat": 4,
  "nbformat_minor": 0
}
