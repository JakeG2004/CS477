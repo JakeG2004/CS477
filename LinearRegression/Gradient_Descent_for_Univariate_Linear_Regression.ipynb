{
  "cells": [
    {
      "cell_type": "markdown",
      "metadata": {
        "id": "U7_GZOKHsbki"
      },
      "source": [
        "## Python For Machine Learning Fall 2025\n",
        "---\n",
        "# Gradient Descent for Univariate Linear Regression"
      ]
    },
    {
      "cell_type": "markdown",
      "metadata": {
        "id": "EVUShgUVtgz1"
      },
      "source": [
        "### Gradient Descent\n",
        "\n",
        "While a closed-form solution (known as the Normal Equation) exists for linear regression, which can directly calculate the **optimal** parameters, it becomes computationally expensive  and inefficient for very large datasets $O(n^2m)$ or models with many features ($O(n^3)$). This is where gradient descent comes in."
      ]
    },
    {
      "cell_type": "markdown",
      "metadata": {
        "id": "RY72uWokwPmo"
      },
      "source": [
        "The core principle of gradient descent is to iteratively adjust a model's parameters to minimize a function, typically a cost function or loss function. The goal is to find the set of parameters (like weights and biases in a neural network) that results in the lowest possible error between the model's predictions and the actual data."
      ]
    },
    {
      "cell_type": "markdown",
      "metadata": {
        "id": "YA6_FnEHwl6K"
      },
      "source": [
        "### The \"downhill\" Metaphor for Gradient Descent\n",
        "\n",
        "Imagine you're a hiker on a foggy mountain, and your goal is to get to the lowest point in the valley. The fog is so thick you can't see the bottom. What do you do?\n",
        "\n",
        "- You feel the slope of the ground beneath your feet. This is the gradient.\n",
        "- You take a step in the direction that goes downhill the steepest.\n",
        "- You repeat this process, taking small steps, always moving in the direction of the steepest descent.\n",
        "\n",
        "Gradient descent works in a similar way:\n",
        "\n",
        "- The \"mountain\" is the cost function, which measures the model's error. The \"valley\" is the minimum error.\n",
        "- The \"hiker's position\" represents the current values of the model's parameters.\n",
        "- The \"slope of the ground\" is the gradient of the cost function with respect to the parameters. The gradient is a vector that points in the direction of the steepest ascent. Since we want to find the minimum, we move in the opposite direction of the gradient."
      ]
    },
    {
      "cell_type": "markdown",
      "metadata": {
        "id": "BiOq7-5tw6fR"
      },
      "source": [
        "### The Algorithm\n",
        "\n",
        "\n",
        "The algorithm is an iterative process that follows these steps:\n",
        "\n",
        "- Initialize Parameters: Start with a random initial guess for the model's parameters.\n",
        "- Calculate the Cost $J(\\theta)$: Compute the value of the cost function using the current parameter values.\n",
        "- Calculate the Gradient: Find the partial derivatives of the cost function with respect to each parameter. This gives you the gradient, which tells you the direction of the steepest increase in error.\n",
        "- Update the Parameters: Adjust the parameters by taking a step in the opposite direction of the gradient. The size of this step is controlled by a value called the learning rate ($\\alpha$). The update formula for a parameter (assume $w$ is one of the parameter in $\\theta$) is:\n",
        "$$\n",
        "w_{new}=w_{old}-\\alpha\\cdot\\frac{\\partial J}{\\partial w}\n",
        "$$\n",
        "- Iterate: Repeat steps 2-4 until the cost function is minimized or the change in parameter values becomes very small."
      ]
    },
    {
      "cell_type": "markdown",
      "metadata": {
        "id": "_tqgM2DwyzZq"
      },
      "source": [
        "### Apply to Univariate Linear Regression\n",
        "\n",
        "Let's define the matching terms in univariate linear regression.\n",
        "\n",
        "- **Loss function**\n",
        "The loss function is the average of the losses of all samples in the training set. For easier calculation during derivation, we divide it by two.\n",
        "$$\n",
        "J(w,b)=\\frac{1}{2m}\\Sigma_{i=1}^n(wx_i+b-y_i)^2\n",
        "$$\n",
        "\n",
        "- **The gradiants**\n",
        "For univariate linear regression, the gradiant vector contains two components.\n",
        "$$\n",
        "\\frac{\\partial J(w,b)}{\\partial w}\n",
        "$$\n",
        "$$\n",
        "=\\frac{\\partial}{\\partial w}[\\frac{1}{2m}\\Sigma_{i=1}^n(wx_i+b-y_i)^2]\n",
        "$$\n",
        "$$\n",
        "=\\frac{\\partial}{\\partial w}[\\frac{1}{m}\\Sigma_{i=1}^n(wx_i+b-y_i)(wx_i+b-y_i)'_w]\n",
        "$$\n",
        "$$\n",
        "=\\frac{\\partial}{\\partial w}[\\frac{1}{m}\\Sigma_{i=1}^n(wx_i+b-y_i)x_i]\n",
        "$$\n",
        "and\n",
        "$$\n",
        "\\frac{\\partial J(w,b)}{\\partial b}\n",
        "$$\n",
        "$$\n",
        "=\\frac{\\partial}{\\partial b}[\\frac{1}{2m}\\Sigma_{i=1}^n(wx_i+b-y_i)^2]\n",
        "$$\n",
        "$$\n",
        "=\\frac{\\partial}{\\partial b}[\\frac{1}{m}\\Sigma_{i=1}^n(wx_i+b-y_i)(wx_i+b-y_i)'_b]\n",
        "$$\n",
        "$$\n",
        "=\\frac{\\partial}{\\partial b}[\\frac{1}{m}\\Sigma_{i=1}^n(wx_i+b-y_i)\\cdot 1]\n",
        "$$\n"
      ]
    },
    {
      "cell_type": "markdown",
      "metadata": {
        "id": "2gKUvm9KE-C8"
      },
      "source": [
        "Let's generate a dataset for a simple linear regression problem using `sklearn.datasets.make_regression`. The dataset has 1000 samples and one feature, with some added noise. The feature and target variables are then printed to show their shape."
      ]
    },
    {
      "cell_type": "code",
      "execution_count": 22,
      "metadata": {
        "id": "TrhEC0NErwEJ"
      },
      "outputs": [
        {
          "name": "stdout",
          "output_type": "stream",
          "text": [
            "(1000, 1) (1000,)\n"
          ]
        }
      ],
      "source": [
        "from sklearn.datasets import make_regression\n",
        "\n",
        "feature, target = make_regression(n_samples=1000, n_features=1, n_informative=1, noise=20, n_targets=1, random_state=1)\n",
        "\n",
        "print(feature.shape, target.shape)"
      ]
    },
    {
      "cell_type": "markdown",
      "metadata": {
        "id": "5eFM88WxFM7v"
      },
      "source": [
        "For convinience, let's remove the additional dimension from the `feature`."
      ]
    },
    {
      "cell_type": "code",
      "execution_count": 23,
      "metadata": {
        "id": "cbQxAsFzFer2"
      },
      "outputs": [
        {
          "name": "stdout",
          "output_type": "stream",
          "text": [
            "(1000,) (1000,)\n"
          ]
        }
      ],
      "source": [
        "feature = feature.flatten()\n",
        "print(feature.shape, target.shape)"
      ]
    },
    {
      "cell_type": "markdown",
      "metadata": {
        "id": "PySpEfgO5XSz"
      },
      "source": [
        "Visualize the generated dataset as a scatter plot."
      ]
    },
    {
      "cell_type": "code",
      "execution_count": 24,
      "metadata": {
        "id": "C8Ib1AHI5WbU"
      },
      "outputs": [
        {
          "data": {
            "image/png": "[encoded data removed]",
            "text/plain": [
              "<Figure size 640x480 with 1 Axes>"
            ]
          },
          "metadata": {},
          "output_type": "display_data"
        }
      ],
      "source": [
        "import matplotlib.pyplot as plt\n",
        "\n",
        "plt.scatter(feature, target)\n",
        "plt.show()"
      ]
    },
    {
      "cell_type": "markdown",
      "metadata": {
        "id": "UYtUPH7O541Y"
      },
      "source": [
        "Define the model, or the predict function. This function represents our linear model, which takes a feature, a slope `w`, and an intercept `b` to predict a target value."
      ]
    },
    {
      "cell_type": "code",
      "execution_count": 25,
      "metadata": {
        "id": "07GDZpEn6NHx"
      },
      "outputs": [],
      "source": [
        "def predict(feature, w, b):\n",
        "    y_hat = feature * w + b\n",
        "    return y_hat"
      ]
    },
    {
      "cell_type": "markdown",
      "metadata": {
        "id": "nK8aHo0Z6IVc"
      },
      "source": [
        "In gradient descent-based learning, one of the most important problems is initialization. In this code cell, we initialize the model parameters `w` (weight or slope) and `b` (bias or intercept) with random values. This is a common practice to avoid starting with a sub-optimal solution."
      ]
    },
    {
      "cell_type": "code",
      "execution_count": 26,
      "metadata": {
        "id": "gIvrDVJT6Aa5"
      },
      "outputs": [],
      "source": [
        "import numpy as np\n",
        "w = np.random.rand()\n",
        "b = np.random.rand()"
      ]
    },
    {
      "cell_type": "markdown",
      "metadata": {
        "id": "4iOqf9mi8ZjP"
      },
      "source": [
        "Next, we define three functions. `calculate_gradient_w` and `calculate_gradient_b` compute the gradients of the loss function with respect to w and b, respectively. The `calculate_loss` function computes the mean squared error (MSE) loss, which measures how far off our predictions are from the actual values."
      ]
    },
    {
      "cell_type": "code",
      "execution_count": 34,
      "metadata": {
        "id": "VqSX61qK8muS"
      },
      "outputs": [],
      "source": [
        "def calculate_loss(features, target, w, b):\n",
        "  m = len(target)\n",
        "  y_hat = predict(features, w, b)\n",
        "  loss = (1/(2*m)) * np.sum((y_hat - target)**2)\n",
        "  return loss"
      ]
    },
    {
      "cell_type": "code",
      "execution_count": 33,
      "metadata": {
        "id": "ppv9giw19Cll"
      },
      "outputs": [],
      "source": [
        "def calculate_gradient_w(features, target, w, b):\n",
        "  m = len(target)\n",
        "  y_hat = predict(features, w, b)\n",
        "  gradient_w = (1/m) * np.sum((y_hat - target) * features)\n",
        "  return gradient_w"
      ]
    },
    {
      "cell_type": "code",
      "execution_count": 32,
      "metadata": {
        "id": "QYnrXVQV_Yv3"
      },
      "outputs": [],
      "source": [
        "def calculate_gradient_b(features, target, w, b):\n",
        "  m = len(target)\n",
        "  y_hat = predict(features, w, b)\n",
        "  gradient_b = (1/m) * np.sum(y_hat - target)\n",
        "  return gradient_b"
      ]
    },
    {
      "cell_type": "markdown",
      "metadata": {
        "id": "OYib-zXn9J3N"
      },
      "source": [
        "The learning rate $\\alpha$ is a crucial hyperparameter that determines the step size at each iteration while moving toward a minimum of the loss function. Choosing the right learning rate is often more of an art than a science."
      ]
    },
    {
      "cell_type": "code",
      "execution_count": 35,
      "metadata": {
        "id": "ZNvuSmsZ98vF"
      },
      "outputs": [
        {
          "ename": "TypeError",
          "evalue": "object of type 'float' has no len()",
          "output_type": "error",
          "traceback": [
            "\u001b[31m---------------------------------------------------------------------------\u001b[39m",
            "\u001b[31mTypeError\u001b[39m                                 Traceback (most recent call last)",
            "\u001b[36mCell\u001b[39m\u001b[36m \u001b[39m\u001b[32mIn[35]\u001b[39m\u001b[32m, line 3\u001b[39m\n\u001b[32m      1\u001b[39m learning_rate = \u001b[32m0.1\u001b[39m\n\u001b[32m----> \u001b[39m\u001b[32m3\u001b[39m gw = \u001b[43mcalculate_gradient_w\u001b[49m\u001b[43m(\u001b[49m\u001b[43mfeature\u001b[49m\u001b[43m,\u001b[49m\u001b[43m \u001b[49m\u001b[43mw\u001b[49m\u001b[43m,\u001b[49m\u001b[43m \u001b[49m\u001b[43mb\u001b[49m\u001b[43m,\u001b[49m\u001b[43m \u001b[49m\u001b[43mtarget\u001b[49m\u001b[43m)\u001b[49m\n\u001b[32m      4\u001b[39m gb = calculate_gradient_b(feature, w, b, target)\n\u001b[32m      6\u001b[39m w = w - learning_rate * gw\n",
            "\u001b[36mCell\u001b[39m\u001b[36m \u001b[39m\u001b[32mIn[33]\u001b[39m\u001b[32m, line 2\u001b[39m, in \u001b[36mcalculate_gradient_w\u001b[39m\u001b[34m(features, target, w, b)\u001b[39m\n\u001b[32m      1\u001b[39m \u001b[38;5;28;01mdef\u001b[39;00m\u001b[38;5;250m \u001b[39m\u001b[34mcalculate_gradient_w\u001b[39m(features, target, w, b):\n\u001b[32m----> \u001b[39m\u001b[32m2\u001b[39m   m = \u001b[38;5;28;43mlen\u001b[39;49m\u001b[43m(\u001b[49m\u001b[43mtarget\u001b[49m\u001b[43m)\u001b[49m\n\u001b[32m      3\u001b[39m   y_hat = predict(features, w, b)\n\u001b[32m      4\u001b[39m   gradient_w = (\u001b[32m1\u001b[39m/m) * np.sum((y_hat - target) * features)\n",
            "\u001b[31mTypeError\u001b[39m: object of type 'float' has no len()"
          ]
        }
      ],
      "source": [
        "learning_rate = 0.1\n",
        "\n",
        "gw = calculate_gradient_w(feature, w, b, target)\n",
        "gb = calculate_gradient_b(feature, w, b, target)\n",
        "\n",
        "w = w - learning_rate * gw\n",
        "b = w - learning_rate * gb\n",
        "\n",
        "plt.scatter(feature, target)\n",
        "plt.plot(feature, predict(feature, w, b), 'r')\n",
        "plt.show()"
      ]
    },
    {
      "cell_type": "markdown",
      "metadata": {
        "id": "2ShdjtZH-DYJ"
      },
      "source": [
        "With these preparations complete, we can now begin a single training iteration. This cell calculates the gradients, updates the w and b parameters, and then visualizes the updated line on the scatter plot."
      ]
    },
    {
      "cell_type": "code",
      "execution_count": null,
      "metadata": {
        "id": "nWmyNdua-M5Y"
      },
      "outputs": [],
      "source": []
    },
    {
      "cell_type": "markdown",
      "metadata": {
        "id": "oJs-two1_Gos"
      },
      "source": [
        "Now, we will perform multiple iterations to fully train the model. The code below contains a training loop that repeatedly calculates gradients and updates the parameters. It also includes a stop condition based on a `tolerance` value, which halts the training once the change in parameters becomes very small, indicating convergence."
      ]
    },
    {
      "cell_type": "code",
      "execution_count": null,
      "metadata": {
        "id": "2J5Y9_bf_PE6"
      },
      "outputs": [
        {
          "ename": "NameError",
          "evalue": "name 'calculate_loss' is not defined",
          "output_type": "error",
          "traceback": [
            "\u001b[31m---------------------------------------------------------------------------\u001b[39m",
            "\u001b[31mNameError\u001b[39m                                 Traceback (most recent call last)",
            "\u001b[36mCell\u001b[39m\u001b[36m \u001b[39m\u001b[32mIn[5]\u001b[39m\u001b[32m, line 12\u001b[39m\n\u001b[32m      9\u001b[39m b = np.random.random()\n\u001b[32m     11\u001b[39m \u001b[38;5;28;01mfor\u001b[39;00m i \u001b[38;5;129;01min\u001b[39;00m \u001b[38;5;28mrange\u001b[39m(n_iter):\n\u001b[32m---> \u001b[39m\u001b[32m12\u001b[39m     loss = \u001b[43mcalculate_loss\u001b[49m(feature, w, b, target)\n\u001b[32m     13\u001b[39m     gw = calculate_gradient_w(feature, w, b, target)\n\u001b[32m     14\u001b[39m     gb = calculate_gradient_b(feature, w, b, target)\n",
            "\u001b[31mNameError\u001b[39m: name 'calculate_loss' is not defined"
          ]
        }
      ],
      "source": [
        "import numpy as np\n",
        "\n",
        "n_iter = 100\n",
        "lost_history = []\n",
        "b_history = []\n",
        "w_history = []\n",
        "\n",
        "w = np.random.random()\n",
        "b = np.random.random()\n",
        "\n",
        "index = 0\n",
        "early_stop = 0.001\n",
        "\n",
        "for i in range(n_iter):\n",
        "    loss = calculate_loss(feature, w, b, target)\n",
        "    gw = calculate_gradient_w(feature, w, b, target)\n",
        "    gb = calculate_gradient_b(feature, w, b, target)\n",
        "\n",
        "    w = w - learning_rate * gw\n",
        "    b = w - learning_rate * gb\n",
        "\n",
        "    loss_history.append(loss)\n",
        "    w_history.append(w)\n",
        "    b_history.append(b)\n",
        "\n",
        "    index += 1\n",
        "    if(abs(w_history[-1] - w) < early_stop and abs(b_history[-1] < early_stop)):\n",
        "        break\n",
        "\n",
        "plt.scatter(feature, target)\n",
        "plt.plot(feature, predict(feature, w, b), 'r')\n",
        "plt.show()"
      ]
    },
    {
      "cell_type": "markdown",
      "metadata": {
        "id": "Y5ZkQnRfGhDa"
      },
      "source": [
        "In this final cell, we visualize the training process by plotting the loss and the values of parameters $w$ and $b$ over each iteration. A well-chosen learning rate will cause the loss to decrease smoothly and the parameters to converge to a stable value."
      ]
    },
    {
      "cell_type": "code",
      "execution_count": null,
      "metadata": {
        "id": "dsB-Rgmu_q-D"
      },
      "outputs": [],
      "source": []
    }
  ],
  "metadata": {
    "colab": {
      "provenance": []
    },
    "kernelspec": {
      "display_name": "Python 3",
      "name": "python3"
    },
    "language_info": {
      "codemirror_mode": {
        "name": "ipython",
        "version": 3
      },
      "file_extension": ".py",
      "mimetype": "text/x-python",
      "name": "python",
      "nbconvert_exporter": "python",
      "pygments_lexer": "ipython3",
      "version": "3.13.7"
    }
  },
  "nbformat": 4,
  "nbformat_minor": 0
}
