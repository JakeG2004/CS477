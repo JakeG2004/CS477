{
  "cells": [
    {
      "cell_type": "markdown",
      "metadata": {
        "id": "PyycgYG_tRJe"
      },
      "source": [
        "## Python For Machine Learning Fall 2025\n",
        "---\n",
        "# Univariate Linear Regression (in Numpy)"
      ]
    },
    {
      "cell_type": "markdown",
      "metadata": {
        "id": "QT7rh_sDf2Bg"
      },
      "source": [
        "Univariate Linear Regression, or Simple Linear Regression, is the simplest form of Linear Regression. The model predict one target using one variable. Thus, each sample $x_i$, is a scalar. Each $x_i$ associates with one target $y_i$. The linear model is\n",
        "$$\n",
        "y = wx + b\n",
        "$$\n",
        "where $w$ is the coefficent and the $b$ is intercept. The problem is given a series of samples $x_1, x_2,..., x_n$, and a series of targets $y_1, y_2,..., y_n$. Our goal is to find the best $w$ and $b$, that can accurate predict the value $y$ when given $x$."
      ]
    },
    {
      "cell_type": "markdown",
      "metadata": {
        "id": "FWRbDq-mhJL1"
      },
      "source": [
        "As we proposed that we use the following target function, or loss function:\\\n",
        "\\begin{equation}\n",
        "\\Sigma^n_{i=1}(\\hat{y_i}-y_i)\n",
        "\\end{equation}\n",
        "where we have:\\\n",
        "$$\n",
        "\\hat{y_i}=wx_i +b\n",
        "$$"
      ]
    },
    {
      "cell_type": "markdown",
      "metadata": {
        "id": "Y3mgfoo5jHZW"
      },
      "source": [
        "The problem of the above optimization objective is that the result of $\\hat{y_i}-y_i$ could be positive and also negative, which will cancel each other out when summing up. We need to either use the absolute value or use the squared values. This lead to the sum of squared errors (SSE) loss:\n",
        "$$\n",
        "\\Sigma^n_{i=1}(\\hat{y_i}-y_i)^2\n",
        "$$\n",
        "\n",
        "Substitute that $\\hat{y_i}=wx_i+b$, we can write the loss functions as:\n",
        "$$\n",
        "L(w,b)=\\Sigma^n_{i=1}(wx_i+b-y_i)^2\n",
        "$$\n",
        "\n",
        "The final goal is that to find the optimized $w$ and $b$ that minimize the loss, which is:\n",
        "$$\n",
        "argmin_{w,b}\\Sigma^n_{i=1}(wx_i+b-y_i)^2\n",
        "$$\n",
        "The good news is that the optimization of this function has analytical solution."
      ]
    },
    {
      "cell_type": "markdown",
      "metadata": {
        "id": "mo0wr8_UsonB"
      },
      "source": [
        "We can find the optimized $w$ and $b$ by solving the equation that the derivate of SSE loss to zero. Now let's calculate the partial derivates of SSE regarding $w$ and $b$, respectively."
      ]
    },
    {
      "cell_type": "markdown",
      "metadata": {
        "id": "-shfCyyrenWo"
      },
      "source": [
        "Among the two, the partial derivate regarding $b$ is simplier. We can calculate $b$ as follows:\n",
        "$$\n",
        "\\frac{\\partial L(w,b)}{\\partial b}=\\Sigma^n_{i=1}2(wx_i+b-y_i)(wx_i+b-y_i)_b'\n",
        "$$\n",
        "\n",
        "which is\n",
        "\n",
        "$$\n",
        "\\frac{\\partial L(w,b)}{\\partial b}=2\\Sigma^n_{i=1}(wx_i+b-y_i)\n",
        "$$\n",
        "\n",
        "Set the partial derivate equal to $0$, we get equation:\n",
        "$$\n",
        "\\Sigma^n_{i=1}(wx_i+b-y_i) = 0\n",
        "$$\n",
        "\n",
        "Write the equation out, we get\n",
        "$$\n",
        "\\Sigma^n_{i=1}wx_i+\\Sigma^n_{i=1}b -\\Sigma^n_{i=1}y_i=0\n",
        "$$\n",
        "\n",
        "Since $\\Sigma^n_{i=1}b=nb$, we have\n",
        "$$\n",
        "b = \\frac{\\Sigma^n_{i=1}y_i - w\\Sigma^n_{i=1}x_i}{n}\n",
        "$$\n",
        "\n",
        "The equation contains another variable $w$, and we can not solve the equation right now."
      ]
    },
    {
      "cell_type": "markdown",
      "metadata": {
        "id": "EjpQku1nehjL"
      },
      "source": [
        "\n",
        "Next step, we calculate the partial derivate regarding $w$ as follows:\n",
        "\n",
        "$$\n",
        "\\frac{\\partial L(w,b)}{\\partial b}=\\Sigma^n_{i=1}2(wx_i+b-y_i)(wx_i+b-y_i)_w'\n",
        "$$\n",
        "\n",
        "Which is,\n",
        "\n",
        "$$\n",
        "\\frac{\\partial L(w,b)}{\\partial b}=\\Sigma^n_{i=1}2(wx_i+b-y_i)x_i\n",
        "$$\n",
        "\n",
        "Write it out, we get\n",
        "$$\n",
        "\\frac{\\partial L(w,b)}{\\partial b}=2\\Sigma^n_{i=1}wx_i^2 + 2b\\Sigma^n_{i=1}x_i  - 2\\Sigma^n_{i=1}x_iy_i\n",
        "$$\n",
        "\n",
        "Set the partial derivate to $0$, we have:\n",
        "$$\n",
        "\\Sigma^n_{i=1}wx_i^2+b\\Sigma^n_{i=1}x_i-\\Sigma^n_{i=1}x_iy_i=0\n",
        "$$"
      ]
    },
    {
      "cell_type": "markdown",
      "metadata": {
        "id": "r787mBDIjCwN"
      },
      "source": [
        "Now we substitute\n",
        "$$\n",
        "b = \\frac{\\Sigma^n_{i=1}y_i - w\\Sigma^n_{i=1}x_i}{n}\n",
        "$$\n",
        "into\n",
        "$$\n",
        "\\Sigma^n_{i=1}wx_i^2+b\\Sigma^n_{i=1}x_i-\\Sigma^n_{i=1}x_iy_i=0\n",
        "$$\n",
        "\n",
        "We get\n",
        "\n",
        "$$\n",
        "\\Sigma^n_{i=1}wx_i^2+\\frac{\\Sigma^n_{i=1}y_i - w\\Sigma^n_{i=1}x_i}{n}\\Sigma^n_{i=1}x_i-\\Sigma^n_{i=1}x_iy_i=0\n",
        "$$\n",
        "\n",
        "Write the multiuplication out\n",
        "$$\n",
        "\\Sigma^n_{i=1}wx_i^2+\\frac{\\Sigma^n_{i=1}y_i - w\\Sigma^n_{i=1}x_i}{n}\\Sigma^n_{i=1}x_i-\\Sigma^n_{i=1}x_iy_i=0\n",
        "$$\n",
        "\n",
        "$$\n",
        "\\Sigma^n_{i=1}wx_i^2 + \\frac{1}{n}\\Sigma^n_{i=1}y_i \\Sigma^n_{i=1}x_i - \\frac{1}{n}w\\Sigma^n_{i=1}x_i \\Sigma^n_{i=1}x_i - \\Sigma^n_{i=1}x_iy_i=0\n",
        "$$"
      ]
    },
    {
      "cell_type": "markdown",
      "metadata": {
        "id": "d1dgGtLHl10W"
      },
      "source": [
        "Using transposition,\n",
        "$$\n",
        "w\\Sigma^n_{i=1}x_i^2-w\\frac{1}{n}\\Sigma^n_{i=1}x_i \\Sigma^n_{i=1}x_i =\\Sigma^n_{i=1}x_iy_i-\\frac{1}{n}\\Sigma^n_{i=1}y_i \\Sigma^n_{i=1}x_i\n",
        "$$\n",
        "\n",
        "Note $\\bar{x}=\\frac{1}{n}\\Sigma^n_{i=1}x_i$, and $\\bar{y}=\\frac{1}{n}\\Sigma^n_{i=1}y_i$, we get a simpler equation:\n",
        "$$\n",
        "w=\\frac{\\Sigma^n_{i=1}x_iy_i-\\Sigma^n_{i=1}y_i\\bar{x}}{\\Sigma^n_{i=1}x_i^2-\\Sigma^n_{i=1}x_i\\bar{x}}\n",
        "$$\n",
        "\n",
        "which is\n",
        "$$\n",
        "w=\\frac{\\Sigma^n_{i=1}y_i(x_i-\\bar{x})}{\\Sigma^n_{i=1}x_i(x_i-\\bar{x})}\n",
        "$$"
      ]
    },
    {
      "cell_type": "markdown",
      "metadata": {
        "id": "--uAYo7eP_k_"
      },
      "source": [
        "The numerator and denominator can be expressed in terms of convariance an variance, to provide more stable and convinient calculation. Let's start from the first form of our equation:\n",
        "$$\n",
        "w=\\frac{\\Sigma^n_{i=1}x_iy_i-\\Sigma^n_{i=1}y_i\\bar{x}}{\\Sigma^n_{i=1}x_i^2-\\Sigma^n_{i=1}x_i\\bar{x}}\n",
        "$$\n",
        "\n",
        "Since we have:\n",
        "$$\n",
        "n\\bar{x}\\bar{y}=n\\bar{x}\\frac{1}{n}\\Sigma_{i=1}^ny_i=\\Sigma_{i=1}^ny_i\\bar{x}\n",
        "$$\n",
        ",\n",
        "$$\n",
        "n\\bar{x}\\bar{y}=n\\bar{y}\\frac{1}{n}\\Sigma_{i=1}^nx_i=\\Sigma_{i=1}^nx_i\\bar{y}\n",
        "$$\n",
        ", and\n",
        "$$\n",
        "n\\bar{x}\\bar{y}=\\Sigma_{i=1}^n\\bar{x}\\bar{y}\n",
        "$$\n",
        "\n",
        "We can rewrite the numerator as:\n",
        "$$\n",
        "\\Sigma^n_{i=1}x_iy_i-\\Sigma^n_{i=1}y_i\\bar{x}=\\Sigma^n_{i=1}(x_iy_i-x_i\\bar{y}-y_i\\bar{x}+\\bar{x}\\bar{y})\n",
        "$$\n",
        "Futhur, it can be rewrote as:\n",
        "$$\n",
        "\\Sigma^n_{i=1}(x_i(y_i-\\bar{y})-\\bar{x}(y_i-\\bar{y}))=\\Sigma^n_{i=1}((y_i-\\bar{y})(x_i-\\bar{x}))\n",
        "$$\n",
        "Whic is the covariance between variable $x$ and $y$."
      ]
    },
    {
      "cell_type": "markdown",
      "metadata": {
        "id": "Ou8dhMgTdRls"
      },
      "source": [
        "For denominator, we can rewrite it as:\n",
        "$$\n",
        "\\Sigma^n_{i=1}x_i^2-\\Sigma^n_{i=1}x_i\\bar{x}=\\Sigma^n_{i=1}(x_i^2-x_i\\bar{x})\n",
        "$$\n",
        "\n",
        "We can get the same conclusion that:\n",
        "$$\n",
        "n\\bar{x}\\bar{x}=\\Sigma_{i=1}^n\\bar{x}\\bar{x}=\\Sigma_{i=1}^nx_i\\bar{x}=\\Sigma_{i=1}^n\\bar{x}x_i\n",
        "$$\n",
        "So, the denominator equals to\n",
        "$$\n",
        "\\Sigma^n_{i=1}(x_i^2-x_i\\bar{x})=\\Sigma^n_{i=1}(x_i^2-x_i\\bar{x}-x_i\\bar{x}+\\bar{x}\\bar{x}) = \\Sigma_{i-1}^n(x_i-\\bar{x})^2\n",
        "$$\n",
        "\n",
        "Which is the variance of $x$."
      ]
    },
    {
      "cell_type": "markdown",
      "metadata": {
        "id": "zl7IdRW8PcAA"
      },
      "source": [
        "Thus, we get a stable and computable formula of $w$, as follows:\n",
        "$$\n",
        "w=\\frac{\\Sigma^n_{i=1}((y_i-\\bar{y})(x_i-\\bar{x}))}{\\Sigma_{i-1}^n(x_i-\\bar{x})^2}\n",
        "$$"
      ]
    },
    {
      "cell_type": "markdown",
      "metadata": {
        "id": "yXdGW6CKoMaI"
      },
      "source": [
        "Given the value of $w$ in hand, we can calculate the value of $b$ accordingly. Recall the equation of $b$, as follows:\n",
        "\n",
        "$$\n",
        "b = \\frac{\\Sigma^n_{i=1}y_i - w\\Sigma^n_{i=1}x_i}{n}\n",
        "$$\n",
        "\n",
        "We can rewrite it as\n",
        "\n",
        "$$\n",
        "b = \\bar{y}-w\\bar{x}\n",
        "$$"
      ]
    },
    {
      "cell_type": "markdown",
      "metadata": {
        "id": "1LRJJjsw-70C"
      },
      "source": [
        "We mentioned that `sklearn` is based one a few packages. One of the most import libary is `numpy`. Now let's implement the univariate linear regression in numpy."
      ]
    },
    {
      "cell_type": "code",
      "execution_count": 7,
      "metadata": {
        "id": "DmnlXHLo_z_K"
      },
      "outputs": [
        {
          "name": "stdout",
          "output_type": "stream",
          "text": [
            "2 1\n"
          ]
        }
      ],
      "source": [
        "from sklearn.datasets import make_regression\n",
        "\n",
        "feature, target = make_regression(n_features=1, n_samples=100, noise=5)\n",
        "\n",
        "# print(type(feature), feature)\n",
        "# print(type(target), target)\n",
        "print(feature.ndim, target.ndim)"
      ]
    },
    {
      "cell_type": "markdown",
      "metadata": {
        "id": "ghqDECHg_YDa"
      },
      "source": [
        "Use `make_regression` to randomly generate a group of `samples`."
      ]
    },
    {
      "cell_type": "code",
      "execution_count": null,
      "metadata": {
        "id": "fhhpoZkn_7F0"
      },
      "outputs": [],
      "source": []
    },
    {
      "cell_type": "markdown",
      "metadata": {
        "id": "YI60jQ8f_3QH"
      },
      "source": [
        "It is always easier if you can visualize the data. That is also another benefits we use simple linear regression as example, in addition to the simplicity of the math.\n",
        "\n",
        "Here we use `matplotlib` library to do the visualization. The `scatter` function can conviniently plot the sample points on a 2d surface."
      ]
    },
    {
      "cell_type": "code",
      "execution_count": 12,
      "metadata": {
        "id": "4Od_wAWiBr2I"
      },
      "outputs": [
        {
          "data": {
            "image/png": "[encoded data removed]",
            "text/plain": [
              "<Figure size 640x480 with 1 Axes>"
            ]
          },
          "metadata": {},
          "output_type": "display_data"
        }
      ],
      "source": [
        "import matplotlib.pyplot as plt\n",
        "\n",
        "plt.scatter(feature, target)\n",
        "plt.show()"
      ]
    },
    {
      "cell_type": "markdown",
      "metadata": {
        "id": "AYuvN3OgCEYM"
      },
      "source": [
        "Now let's calculate the value of $w$, according to our equation:\n",
        "$$\n",
        "w=\\frac{\\Sigma^n_{i=1}((y_i-\\bar{y})(x_i-\\bar{x}))}{\\Sigma_{i-1}^n(x_i-\\bar{x})^2}\n",
        "$$"
      ]
    },
    {
      "cell_type": "markdown",
      "metadata": {
        "id": "tcDC_2oZCj1_"
      },
      "source": [
        "The features and targets are already in `numpy` array."
      ]
    },
    {
      "cell_type": "code",
      "execution_count": 14,
      "metadata": {
        "id": "0NfgrrYLCrZL"
      },
      "outputs": [],
      "source": [
        "import numpy as np"
      ]
    },
    {
      "cell_type": "markdown",
      "metadata": {
        "id": "oPGLz2RAC2yW"
      },
      "source": [
        "In our case, `feature` and `target` are slightly different."
      ]
    },
    {
      "cell_type": "code",
      "execution_count": null,
      "metadata": {
        "id": "EdUkov5sC7C-"
      },
      "outputs": [],
      "source": []
    },
    {
      "cell_type": "markdown",
      "metadata": {
        "id": "03l23r4ZDOoR"
      },
      "source": [
        "`feature` is a 2d array, and `target` is a 1d array."
      ]
    },
    {
      "cell_type": "code",
      "execution_count": 15,
      "metadata": {
        "id": "aHLMZrxGDVik"
      },
      "outputs": [
        {
          "name": "stdout",
          "output_type": "stream",
          "text": [
            "2 1\n"
          ]
        }
      ],
      "source": [
        "print(feature.ndim, target.ndim)"
      ]
    },
    {
      "cell_type": "markdown",
      "metadata": {
        "id": "j6UiTU6RCQP7"
      },
      "source": [
        "Task 1 will be calculate the mean value of $\\bar{x}$ and $\\bar{y}$. `numpy` provide `mean` function to calculate the mean value of an array."
      ]
    },
    {
      "cell_type": "code",
      "execution_count": 18,
      "metadata": {
        "id": "w_Y9ed5WACxx"
      },
      "outputs": [
        {
          "name": "stdout",
          "output_type": "stream",
          "text": [
            "0.23809300748140338 12.617858348360302\n"
          ]
        }
      ],
      "source": [
        "x_bar = np.mean(feature)\n",
        "y_bar = np.mean(target)\n",
        "print(x_bar, y_bar)"
      ]
    },
    {
      "cell_type": "markdown",
      "metadata": {
        "id": "gQMvloDrD7zy"
      },
      "source": [
        "`numpy` array support a cool feature, which is called `broadcast`."
      ]
    },
    {
      "cell_type": "code",
      "execution_count": 23,
      "metadata": {
        "id": "lNym6uujAetn"
      },
      "outputs": [],
      "source": [
        "x_sub = feature - x_bar\n",
        "y_sub = target - y_bar"
      ]
    },
    {
      "cell_type": "markdown",
      "metadata": {
        "id": "g3iWF8dYEP_j"
      },
      "source": [
        "Now we need to do a point-to-point, or element-wise mulitplication in between array `feature` and `y_sub`, as well as `feature` and `x_sub`. One issue is that due to the different `ndim` values between the two, the multiplication will perform wierd."
      ]
    },
    {
      "cell_type": "code",
      "execution_count": 33,
      "metadata": {
        "id": "0VwOV2Q0FRja"
      },
      "outputs": [
        {
          "name": "stdout",
          "output_type": "stream",
          "text": [
            "55.02110982977082\n"
          ]
        }
      ],
      "source": [
        "# w = cov(X) / var(X)\n",
        "numerator = np.sum(x_sub.flatten() * y_sub)\n",
        "denominator = np.sum(x_sub.flatten() * x_sub.flatten())\n",
        "\n",
        "w = numerator / denominator\n",
        "print(w)"
      ]
    },
    {
      "cell_type": "markdown",
      "metadata": {
        "id": "4uY4gwCqFYte"
      },
      "source": [
        "No we can calculate the value of $b$"
      ]
    },
    {
      "cell_type": "code",
      "execution_count": 35,
      "metadata": {
        "id": "uIrmBJM7FcgX"
      },
      "outputs": [
        {
          "name": "stdout",
          "output_type": "stream",
          "text": [
            "-0.48228316597443843\n"
          ]
        }
      ],
      "source": [
        "b = y_bar - (w * x_bar)\n",
        "print(b)"
      ]
    },
    {
      "cell_type": "markdown",
      "metadata": {
        "id": "_ktpfPtPFvqs"
      },
      "source": [
        "Now we have the model $y=wx+b$ estimated."
      ]
    },
    {
      "cell_type": "markdown",
      "metadata": {
        "id": "nmAi7_a9F3ui"
      },
      "source": [
        "To test it, we create a function that create the output based on $w$ and $b$"
      ]
    },
    {
      "cell_type": "code",
      "execution_count": 38,
      "metadata": {
        "id": "PxokuTeQF_mN"
      },
      "outputs": [
        {
          "name": "stdout",
          "output_type": "stream",
          "text": [
            "[[-3.41701704e+01]\n",
            " [ 7.19638218e+00]\n",
            " [ 1.46218141e-01]\n",
            " [ 1.39050549e+01]\n",
            " [-7.05089333e+01]\n",
            " [ 5.04683353e+01]\n",
            " [ 2.20858090e+00]\n",
            " [-1.28269668e+02]\n",
            " [-9.10982041e+00]\n",
            " [-2.77222294e+00]\n",
            " [ 1.70415051e+01]\n",
            " [-2.05931188e+01]\n",
            " [-1.22590017e+02]\n",
            " [ 3.96839972e+01]\n",
            " [-3.57083965e+01]\n",
            " [ 8.77083526e-01]\n",
            " [-5.40013705e+01]\n",
            " [ 4.71044985e+01]\n",
            " [-3.64911302e+01]\n",
            " [-4.44050790e+01]\n",
            " [-4.29021165e+00]\n",
            " [-9.68047681e+01]\n",
            " [-3.22618620e+01]\n",
            " [-3.19545705e+01]\n",
            " [ 6.19931780e+01]\n",
            " [ 8.42756144e+01]\n",
            " [ 5.19737174e+01]\n",
            " [ 4.53476281e+01]\n",
            " [ 6.80325833e+01]\n",
            " [-4.22505504e+01]\n",
            " [ 1.54724042e+01]\n",
            " [ 1.58341234e+01]\n",
            " [-3.37852755e+00]\n",
            " [ 1.74452819e+02]\n",
            " [ 1.31910300e+01]\n",
            " [-2.80857727e+01]\n",
            " [-6.17905345e+01]\n",
            " [ 4.50026304e+01]\n",
            " [ 1.24164144e+02]\n",
            " [-5.13066836e+01]\n",
            " [-2.40693935e+01]\n",
            " [ 6.17008519e+01]\n",
            " [-4.29218367e+01]\n",
            " [ 1.86860027e+01]\n",
            " [-3.01370186e+01]\n",
            " [ 1.23177858e+02]\n",
            " [ 2.92104837e+01]\n",
            " [-1.45278988e+01]\n",
            " [ 6.60790854e+01]\n",
            " [ 4.20662389e+01]\n",
            " [ 1.72060873e+01]\n",
            " [ 1.36642103e+02]\n",
            " [ 1.48681035e+02]\n",
            " [-5.62664015e+01]\n",
            " [-4.60770375e+00]\n",
            " [-2.26485271e+01]\n",
            " [ 1.94986197e+01]\n",
            " [-2.88462973e+01]\n",
            " [-1.12839335e+02]\n",
            " [ 5.47056619e+01]\n",
            " [-3.68959428e+01]\n",
            " [ 9.79568609e+01]\n",
            " [-8.26787874e+00]\n",
            " [-3.52845318e+01]\n",
            " [ 7.16990529e+01]\n",
            " [-1.80526877e+01]\n",
            " [ 9.14863459e+00]\n",
            " [ 6.04408470e+01]\n",
            " [ 1.17916409e+02]\n",
            " [-6.07167253e+01]\n",
            " [-4.46354550e+01]\n",
            " [ 4.64240992e+01]\n",
            " [ 3.62382564e+01]\n",
            " [ 7.36955192e+01]\n",
            " [ 2.90978051e+01]\n",
            " [ 2.53558863e+00]\n",
            " [ 1.17370360e+02]\n",
            " [ 5.66914354e+01]\n",
            " [ 6.85642846e+01]\n",
            " [ 3.75629681e+01]\n",
            " [-3.67956068e+00]\n",
            " [ 1.35886889e+02]\n",
            " [-3.32049521e+01]\n",
            " [ 1.40420977e+02]\n",
            " [ 5.68791779e+01]\n",
            " [ 3.02041799e+01]\n",
            " [-4.39534689e+01]\n",
            " [-8.48469493e+01]\n",
            " [-6.98528556e+01]\n",
            " [-3.05622378e+01]\n",
            " [ 1.15027022e+01]\n",
            " [ 4.77315610e+01]\n",
            " [ 4.39734239e+01]\n",
            " [-1.69815839e+01]\n",
            " [-6.41280033e+00]\n",
            " [-4.09773055e+00]\n",
            " [-2.19520579e+01]\n",
            " [ 5.86799237e+01]\n",
            " [ 8.05689228e+01]\n",
            " [ 1.57563844e+00]]\n"
          ]
        }
      ],
      "source": [
        "def predict(feature, w, b):\n",
        "    return (w * feature) + b\n",
        "\n",
        "preds = predict(feature, w, b)\n",
        "print(preds)"
      ]
    },
    {
      "cell_type": "markdown",
      "metadata": {
        "id": "LgMyfbhNGKw1"
      },
      "source": [
        "Now we are ready to plot the data and the `line` we estimated."
      ]
    },
    {
      "cell_type": "code",
      "execution_count": 41,
      "metadata": {
        "id": "zqlew6eoGE0Z"
      },
      "outputs": [
        {
          "data": {
            "image/png": "[encoded data removed]",
            "text/plain": [
              "<Figure size 640x480 with 1 Axes>"
            ]
          },
          "metadata": {},
          "output_type": "display_data"
        }
      ],
      "source": [
        "plt.scatter(feature, target)\n",
        "plt.plot(feature, preds, 'r')\n",
        "plt.show()"
      ]
    },
    {
      "cell_type": "markdown",
      "metadata": {
        "id": "TeZmk_nLhpyN"
      },
      "source": [
        "Validate with `sklearn`"
      ]
    },
    {
      "cell_type": "code",
      "execution_count": 42,
      "metadata": {
        "id": "3ag1Pk3yjnmL"
      },
      "outputs": [
        {
          "name": "stdout",
          "output_type": "stream",
          "text": [
            "[55.02110983] 55.02110982977082 -0.48228316597444554 -0.48228316597443843\n"
          ]
        }
      ],
      "source": [
        "from sklearn.linear_model import LinearRegression\n",
        "\n",
        "# Create linear regression model and fit it to the data\n",
        "model = LinearRegression().fit(feature, target)\n",
        "print(model.coef_, w, model.intercept_, b)\n"
      ]
    }
  ],
  "metadata": {
    "colab": {
      "provenance": []
    },
    "kernelspec": {
      "display_name": "Python 3",
      "name": "python3"
    },
    "language_info": {
      "codemirror_mode": {
        "name": "ipython",
        "version": 3
      },
      "file_extension": ".py",
      "mimetype": "text/x-python",
      "name": "python",
      "nbconvert_exporter": "python",
      "pygments_lexer": "ipython3",
      "version": "3.13.7"
    }
  },
  "nbformat": 4,
  "nbformat_minor": 0
}
